{
  "cells": [
    {
      "cell_type": "markdown",
      "id": "OMo_AVxybtFN",
      "metadata": {
        "id": "OMo_AVxybtFN"
      },
      "source": [
        "# Train Model on first Iteration using a dataset of original authentic drug images and counterfeit drug images created from GenAI and Test on counterfeit drug images generated from Albumentation + OCR and GenAI"
      ]
    },
    {
      "cell_type": "markdown",
      "id": "8d338617-7c54-45a1-b391-d7b3c8b2a4ae",
      "metadata": {
        "id": "8d338617-7c54-45a1-b391-d7b3c8b2a4ae"
      },
      "source": [
        "## Counting Files Script To Verify Class balance in datasets"
      ]
    },
    {
      "cell_type": "code",
      "execution_count": null,
      "id": "yIiuetSRWhAD",
      "metadata": {
        "colab": {
          "base_uri": "https://localhost:8080/"
        },
        "id": "yIiuetSRWhAD",
        "outputId": "30457851-3dee-4f05-f286-97e07034f302"
      },
      "outputs": [
        {
          "output_type": "stream",
          "name": "stdout",
          "text": [
            "Mounted at /content/drive\n",
            "Number of image files in '/content/drive/MyDrive/Colab_Notebooks/Counterfeit_med_dataset_trainOnAlbu_testOnGenAI/test/counterfeit': 192\n"
          ]
        }
      ],
      "source": [
        "from google.colab import drive\n",
        "import os\n",
        "\n",
        "# Mount your Google Drive\n",
        "drive.mount('/content/drive')\n",
        "\n",
        "# Path to your dataset folder inside Drive\n",
        "folder_path = \"/content/drive/MyDrive/Colab_Notebooks/Counterfeit_med_dataset_trainOnAlbu_testOnGenAI/test/counterfeit\"\n",
        "\n",
        "# Define valid image extensions\n",
        "image_extensions = ('.png', '.jpg', '.jpeg')\n",
        "\n",
        "# List and count image files\n",
        "image_files = [f for f in os.listdir(folder_path) if f.lower().endswith(image_extensions)]\n",
        "\n",
        "print(f\"Number of image files in '{folder_path}': {len(image_files)}\")"
      ]
    },
    {
      "cell_type": "markdown",
      "id": "ALbTedyxspbT",
      "metadata": {
        "id": "ALbTedyxspbT"
      },
      "source": [
        "## Device Setup"
      ]
    },
    {
      "cell_type": "code",
      "execution_count": null,
      "id": "ea9fba1d-0284-4938-9919-1cab257b906a",
      "metadata": {
        "colab": {
          "base_uri": "https://localhost:8080/"
        },
        "id": "ea9fba1d-0284-4938-9919-1cab257b906a",
        "outputId": "2beeaf78-200b-4481-e878-0f748b139716"
      },
      "outputs": [
        {
          "output_type": "stream",
          "name": "stdout",
          "text": [
            "True\n",
            "NVIDIA L4\n",
            "Drive already mounted at /content/drive; to attempt to forcibly remount, call drive.mount(\"/content/drive\", force_remount=True).\n"
          ]
        }
      ],
      "source": [
        "import torch\n",
        "print(torch.cuda.is_available())\n",
        "print(torch.cuda.get_device_name(0))\n",
        "from google.colab import drive\n",
        "drive.mount('/content/drive')"
      ]
    },
    {
      "cell_type": "code",
      "execution_count": null,
      "id": "1aa81a19-8b6e-4974-a2a0-088206ae2ae1",
      "metadata": {
        "id": "1aa81a19-8b6e-4974-a2a0-088206ae2ae1"
      },
      "outputs": [],
      "source": [
        "import os\n",
        "import torch\n",
        "import torch.nn as nn\n",
        "import torch.nn.functional as F\n",
        "import torchvision.transforms as transforms\n",
        "from torchvision import datasets, models\n",
        "from torch.utils.data import DataLoader, Subset\n",
        "from sklearn.metrics import confusion_matrix, classification_report\n",
        "from sklearn.model_selection import StratifiedKFold\n",
        "import seaborn as sns\n",
        "import matplotlib.pyplot as plt\n",
        "from collections import Counter\n",
        "from PIL import Image"
      ]
    },
    {
      "cell_type": "markdown",
      "id": "f625afd2-7d70-4286-9e6c-a0e6819a7bf7",
      "metadata": {
        "id": "f625afd2-7d70-4286-9e6c-a0e6819a7bf7"
      },
      "source": [
        "## Transform setup"
      ]
    },
    {
      "cell_type": "code",
      "execution_count": null,
      "id": "de95a2de-2758-4289-9ba1-fab23e15314a",
      "metadata": {
        "id": "de95a2de-2758-4289-9ba1-fab23e15314a"
      },
      "outputs": [],
      "source": [
        "device = torch.device(\"cuda\" if torch.cuda.is_available() else \"cpu\")"
      ]
    },
    {
      "cell_type": "markdown",
      "id": "38b9bbf8-9327-4bc1-9e4b-f23db8823aba",
      "metadata": {
        "id": "38b9bbf8-9327-4bc1-9e4b-f23db8823aba"
      },
      "source": [
        "## Data Augmentation for Training"
      ]
    },
    {
      "cell_type": "code",
      "execution_count": null,
      "id": "3ac51cc5-e953-4430-be54-927eec2f1bdf",
      "metadata": {
        "id": "3ac51cc5-e953-4430-be54-927eec2f1bdf"
      },
      "outputs": [],
      "source": [
        "train_transform = transforms.Compose([\n",
        "    transforms.Resize((224, 224)),\n",
        "    transforms.RandomHorizontalFlip(),\n",
        "    transforms.RandomRotation(15),\n",
        "    transforms.ColorJitter(brightness=0.2, contrast=0.2),\n",
        "    transforms.ToTensor(),\n",
        "    transforms.Normalize([0.5]*3, [0.5]*3)\n",
        "])\n",
        "\n",
        "val_test_transform = transforms.Compose([\n",
        "    transforms.Resize((224, 224)),\n",
        "    transforms.ToTensor(),\n",
        "    transforms.Normalize([0.5]*3, [0.5]*3)\n",
        "])"
      ]
    },
    {
      "cell_type": "markdown",
      "id": "687585a7-9223-461d-aaa3-7ed68de0a1cc",
      "metadata": {
        "id": "687585a7-9223-461d-aaa3-7ed68de0a1cc"
      },
      "source": [
        "## Load first dataset via ImageFolder for first iteration"
      ]
    },
    {
      "cell_type": "code",
      "execution_count": null,
      "id": "cbc20586-0ad4-4c86-86a3-5e09ce9af96e",
      "metadata": {
        "colab": {
          "base_uri": "https://localhost:8080/",
          "height": 269
        },
        "id": "cbc20586-0ad4-4c86-86a3-5e09ce9af96e",
        "outputId": "c2b90674-bd7a-4bc9-9aa2-9ae057333f79",
        "scrolled": true
      },
      "outputs": [
        {
          "output_type": "error",
          "ename": "KeyboardInterrupt",
          "evalue": "",
          "traceback": [
            "\u001b[0;31m---------------------------------------------------------------------------\u001b[0m",
            "\u001b[0;31mKeyboardInterrupt\u001b[0m                         Traceback (most recent call last)",
            "\u001b[0;32m/tmp/ipython-input-2532640648.py\u001b[0m in \u001b[0;36m<cell line: 0>\u001b[0;34m()\u001b[0m\n\u001b[1;32m      6\u001b[0m \u001b[0;34m\u001b[0m\u001b[0m\n\u001b[1;32m      7\u001b[0m \u001b[0;31m# Datasets\u001b[0m\u001b[0;34m\u001b[0m\u001b[0;34m\u001b[0m\u001b[0m\n\u001b[0;32m----> 8\u001b[0;31m \u001b[0mtrain_dataset\u001b[0m \u001b[0;34m=\u001b[0m \u001b[0mdatasets\u001b[0m\u001b[0;34m.\u001b[0m\u001b[0mImageFolder\u001b[0m\u001b[0;34m(\u001b[0m\u001b[0mroot\u001b[0m\u001b[0;34m=\u001b[0m\u001b[0mtrain_path\u001b[0m\u001b[0;34m,\u001b[0m \u001b[0mtransform\u001b[0m\u001b[0;34m=\u001b[0m\u001b[0mtrain_transform\u001b[0m\u001b[0;34m)\u001b[0m\u001b[0;34m\u001b[0m\u001b[0;34m\u001b[0m\u001b[0m\n\u001b[0m\u001b[1;32m      9\u001b[0m \u001b[0mval_dataset\u001b[0m \u001b[0;34m=\u001b[0m \u001b[0mdatasets\u001b[0m\u001b[0;34m.\u001b[0m\u001b[0mImageFolder\u001b[0m\u001b[0;34m(\u001b[0m\u001b[0mroot\u001b[0m\u001b[0;34m=\u001b[0m\u001b[0mval_path\u001b[0m\u001b[0;34m,\u001b[0m \u001b[0mtransform\u001b[0m\u001b[0;34m=\u001b[0m\u001b[0mval_test_transform\u001b[0m\u001b[0;34m)\u001b[0m\u001b[0;34m\u001b[0m\u001b[0;34m\u001b[0m\u001b[0m\n\u001b[1;32m     10\u001b[0m \u001b[0mtest_dataset\u001b[0m \u001b[0;34m=\u001b[0m \u001b[0mdatasets\u001b[0m\u001b[0;34m.\u001b[0m\u001b[0mImageFolder\u001b[0m\u001b[0;34m(\u001b[0m\u001b[0mroot\u001b[0m\u001b[0;34m=\u001b[0m\u001b[0mtest_path\u001b[0m\u001b[0;34m,\u001b[0m \u001b[0mtransform\u001b[0m\u001b[0;34m=\u001b[0m\u001b[0mval_test_transform\u001b[0m\u001b[0;34m)\u001b[0m\u001b[0;34m\u001b[0m\u001b[0;34m\u001b[0m\u001b[0m\n",
            "\u001b[0;32m/usr/local/lib/python3.12/dist-packages/torchvision/datasets/folder.py\u001b[0m in \u001b[0;36m__init__\u001b[0;34m(self, root, transform, target_transform, loader, is_valid_file, allow_empty)\u001b[0m\n\u001b[1;32m    326\u001b[0m         \u001b[0mallow_empty\u001b[0m\u001b[0;34m:\u001b[0m \u001b[0mbool\u001b[0m \u001b[0;34m=\u001b[0m \u001b[0;32mFalse\u001b[0m\u001b[0;34m,\u001b[0m\u001b[0;34m\u001b[0m\u001b[0;34m\u001b[0m\u001b[0m\n\u001b[1;32m    327\u001b[0m     ):\n\u001b[0;32m--> 328\u001b[0;31m         super().__init__(\n\u001b[0m\u001b[1;32m    329\u001b[0m             \u001b[0mroot\u001b[0m\u001b[0;34m,\u001b[0m\u001b[0;34m\u001b[0m\u001b[0;34m\u001b[0m\u001b[0m\n\u001b[1;32m    330\u001b[0m             \u001b[0mloader\u001b[0m\u001b[0;34m,\u001b[0m\u001b[0;34m\u001b[0m\u001b[0;34m\u001b[0m\u001b[0m\n",
            "\u001b[0;32m/usr/local/lib/python3.12/dist-packages/torchvision/datasets/folder.py\u001b[0m in \u001b[0;36m__init__\u001b[0;34m(self, root, loader, extensions, transform, target_transform, is_valid_file, allow_empty)\u001b[0m\n\u001b[1;32m    148\u001b[0m         \u001b[0msuper\u001b[0m\u001b[0;34m(\u001b[0m\u001b[0;34m)\u001b[0m\u001b[0;34m.\u001b[0m\u001b[0m__init__\u001b[0m\u001b[0;34m(\u001b[0m\u001b[0mroot\u001b[0m\u001b[0;34m,\u001b[0m \u001b[0mtransform\u001b[0m\u001b[0;34m=\u001b[0m\u001b[0mtransform\u001b[0m\u001b[0;34m,\u001b[0m \u001b[0mtarget_transform\u001b[0m\u001b[0;34m=\u001b[0m\u001b[0mtarget_transform\u001b[0m\u001b[0;34m)\u001b[0m\u001b[0;34m\u001b[0m\u001b[0;34m\u001b[0m\u001b[0m\n\u001b[1;32m    149\u001b[0m         \u001b[0mclasses\u001b[0m\u001b[0;34m,\u001b[0m \u001b[0mclass_to_idx\u001b[0m \u001b[0;34m=\u001b[0m \u001b[0mself\u001b[0m\u001b[0;34m.\u001b[0m\u001b[0mfind_classes\u001b[0m\u001b[0;34m(\u001b[0m\u001b[0mself\u001b[0m\u001b[0;34m.\u001b[0m\u001b[0mroot\u001b[0m\u001b[0;34m)\u001b[0m\u001b[0;34m\u001b[0m\u001b[0;34m\u001b[0m\u001b[0m\n\u001b[0;32m--> 150\u001b[0;31m         samples = self.make_dataset(\n\u001b[0m\u001b[1;32m    151\u001b[0m             \u001b[0mself\u001b[0m\u001b[0;34m.\u001b[0m\u001b[0mroot\u001b[0m\u001b[0;34m,\u001b[0m\u001b[0;34m\u001b[0m\u001b[0;34m\u001b[0m\u001b[0m\n\u001b[1;32m    152\u001b[0m             \u001b[0mclass_to_idx\u001b[0m\u001b[0;34m=\u001b[0m\u001b[0mclass_to_idx\u001b[0m\u001b[0;34m,\u001b[0m\u001b[0;34m\u001b[0m\u001b[0;34m\u001b[0m\u001b[0m\n",
            "\u001b[0;32m/usr/local/lib/python3.12/dist-packages/torchvision/datasets/folder.py\u001b[0m in \u001b[0;36mmake_dataset\u001b[0;34m(directory, class_to_idx, extensions, is_valid_file, allow_empty)\u001b[0m\n\u001b[1;32m    201\u001b[0m             \u001b[0;31m# is potentially overridden and thus could have a different logic.\u001b[0m\u001b[0;34m\u001b[0m\u001b[0;34m\u001b[0m\u001b[0m\n\u001b[1;32m    202\u001b[0m             \u001b[0;32mraise\u001b[0m \u001b[0mValueError\u001b[0m\u001b[0;34m(\u001b[0m\u001b[0;34m\"The class_to_idx parameter cannot be None.\"\u001b[0m\u001b[0;34m)\u001b[0m\u001b[0;34m\u001b[0m\u001b[0;34m\u001b[0m\u001b[0m\n\u001b[0;32m--> 203\u001b[0;31m         return make_dataset(\n\u001b[0m\u001b[1;32m    204\u001b[0m             \u001b[0mdirectory\u001b[0m\u001b[0;34m,\u001b[0m \u001b[0mclass_to_idx\u001b[0m\u001b[0;34m,\u001b[0m \u001b[0mextensions\u001b[0m\u001b[0;34m=\u001b[0m\u001b[0mextensions\u001b[0m\u001b[0;34m,\u001b[0m \u001b[0mis_valid_file\u001b[0m\u001b[0;34m=\u001b[0m\u001b[0mis_valid_file\u001b[0m\u001b[0;34m,\u001b[0m \u001b[0mallow_empty\u001b[0m\u001b[0;34m=\u001b[0m\u001b[0mallow_empty\u001b[0m\u001b[0;34m\u001b[0m\u001b[0;34m\u001b[0m\u001b[0m\n\u001b[1;32m    205\u001b[0m         )\n",
            "\u001b[0;32m/usr/local/lib/python3.12/dist-packages/torchvision/datasets/folder.py\u001b[0m in \u001b[0;36mmake_dataset\u001b[0;34m(directory, class_to_idx, extensions, is_valid_file, allow_empty)\u001b[0m\n\u001b[1;32m     87\u001b[0m         \u001b[0;32mif\u001b[0m \u001b[0;32mnot\u001b[0m \u001b[0mos\u001b[0m\u001b[0;34m.\u001b[0m\u001b[0mpath\u001b[0m\u001b[0;34m.\u001b[0m\u001b[0misdir\u001b[0m\u001b[0;34m(\u001b[0m\u001b[0mtarget_dir\u001b[0m\u001b[0;34m)\u001b[0m\u001b[0;34m:\u001b[0m\u001b[0;34m\u001b[0m\u001b[0;34m\u001b[0m\u001b[0m\n\u001b[1;32m     88\u001b[0m             \u001b[0;32mcontinue\u001b[0m\u001b[0;34m\u001b[0m\u001b[0;34m\u001b[0m\u001b[0m\n\u001b[0;32m---> 89\u001b[0;31m         \u001b[0;32mfor\u001b[0m \u001b[0mroot\u001b[0m\u001b[0;34m,\u001b[0m \u001b[0m_\u001b[0m\u001b[0;34m,\u001b[0m \u001b[0mfnames\u001b[0m \u001b[0;32min\u001b[0m \u001b[0msorted\u001b[0m\u001b[0;34m(\u001b[0m\u001b[0mos\u001b[0m\u001b[0;34m.\u001b[0m\u001b[0mwalk\u001b[0m\u001b[0;34m(\u001b[0m\u001b[0mtarget_dir\u001b[0m\u001b[0;34m,\u001b[0m \u001b[0mfollowlinks\u001b[0m\u001b[0;34m=\u001b[0m\u001b[0;32mTrue\u001b[0m\u001b[0;34m)\u001b[0m\u001b[0;34m)\u001b[0m\u001b[0;34m:\u001b[0m\u001b[0;34m\u001b[0m\u001b[0;34m\u001b[0m\u001b[0m\n\u001b[0m\u001b[1;32m     90\u001b[0m             \u001b[0;32mfor\u001b[0m \u001b[0mfname\u001b[0m \u001b[0;32min\u001b[0m \u001b[0msorted\u001b[0m\u001b[0;34m(\u001b[0m\u001b[0mfnames\u001b[0m\u001b[0;34m)\u001b[0m\u001b[0;34m:\u001b[0m\u001b[0;34m\u001b[0m\u001b[0;34m\u001b[0m\u001b[0m\n\u001b[1;32m     91\u001b[0m                 \u001b[0mpath\u001b[0m \u001b[0;34m=\u001b[0m \u001b[0mos\u001b[0m\u001b[0;34m.\u001b[0m\u001b[0mpath\u001b[0m\u001b[0;34m.\u001b[0m\u001b[0mjoin\u001b[0m\u001b[0;34m(\u001b[0m\u001b[0mroot\u001b[0m\u001b[0;34m,\u001b[0m \u001b[0mfname\u001b[0m\u001b[0;34m)\u001b[0m\u001b[0;34m\u001b[0m\u001b[0;34m\u001b[0m\u001b[0m\n",
            "\u001b[0;32m/usr/lib/python3.12/os.py\u001b[0m in \u001b[0;36mwalk\u001b[0;34m(top, topdown, onerror, followlinks)\u001b[0m\n",
            "\u001b[0;31mKeyboardInterrupt\u001b[0m: "
          ]
        }
      ],
      "source": [
        "# Paths\n",
        "train_path = \"/content/drive/MyDrive/Colab_Notebooks/Counterfeit_med_dataset_trainOnGenAI_testOnGenAI&Albu/train\"\n",
        "val_path = \"/content/drive/MyDrive/Colab_Notebooks/Counterfeit_med_dataset_trainOnGenAI_testOnGenAI&Albu/valid\"\n",
        "test_path = \"/content/drive/MyDrive/Colab_Notebooks/Counterfeit_med_dataset_trainOnGenAI_testOnGenAI&Albu/test\"\n",
        "\n",
        "\n",
        "# Datasets\n",
        "train_dataset = datasets.ImageFolder(root=train_path, transform=train_transform)\n",
        "val_dataset = datasets.ImageFolder(root=val_path, transform=val_test_transform)\n",
        "test_dataset = datasets.ImageFolder(root=test_path, transform=val_test_transform)\n",
        "\n",
        "# Class distribution insight\n",
        "print(\"Class distribution in training set:\")\n",
        "print(Counter([label for _, label in train_dataset]))\n",
        "\n",
        "class_names = train_dataset.classes  # ['authentic', 'counterfeit', 'not_medication']\n",
        "\n",
        "\n",
        "\n",
        "train_loader = DataLoader(train_dataset, batch_size=128,num_workers=4, pin_memory=True, shuffle=True)\n",
        "val_loader = DataLoader(val_dataset, batch_size=128, num_workers=4, pin_memory=True, shuffle=False)\n",
        "test_loader = DataLoader(test_dataset, batch_size=128,num_workers=4, pin_memory=True, shuffle=False)\n"
      ]
    },
    {
      "cell_type": "markdown",
      "id": "454bafaf-fc0f-43c7-bf99-8a866a8dc0e5",
      "metadata": {
        "id": "454bafaf-fc0f-43c7-bf99-8a866a8dc0e5"
      },
      "source": [
        "## Load & Customize ResNet18, DenseNet, VGG, Xception"
      ]
    },
    {
      "cell_type": "code",
      "execution_count": null,
      "id": "562a656d-4e49-4c5f-b5c8-017e531efecf",
      "metadata": {
        "id": "562a656d-4e49-4c5f-b5c8-017e531efecf"
      },
      "outputs": [],
      "source": [
        "import torchvision.models as models\n",
        "import torch.nn as nn\n",
        "\n",
        "def get_model(name):\n",
        "    if name == \"resnet18\":\n",
        "        model = models.resnet18(pretrained=True)\n",
        "        model.fc = nn.Linear(model.fc.in_features, 3)\n",
        "\n",
        "    elif name == \"resnet50\":\n",
        "        model = models.resnet50(pretrained=True)\n",
        "        model.fc = nn.Linear(model.fc.in_features, 3)\n",
        "\n",
        "    elif name == \"resnet101\":\n",
        "        model = models.resnet101(pretrained=True)\n",
        "        model.fc = nn.Linear(model.fc.in_features, 3)\n",
        "\n",
        "    else:\n",
        "        raise ValueError(f\"Unknown model name: {name}\")\n",
        "\n",
        "    return model.to(device)"
      ]
    },
    {
      "cell_type": "markdown",
      "id": "a0abf625-a2c1-424e-b04d-501a312747ca",
      "metadata": {
        "id": "a0abf625-a2c1-424e-b04d-501a312747ca"
      },
      "source": [
        "## Defining Functions to Train Model and Evaluate"
      ]
    },
    {
      "cell_type": "code",
      "execution_count": null,
      "id": "e9cb1f06-86c0-4b2c-825c-63659f3ee9ab",
      "metadata": {
        "id": "e9cb1f06-86c0-4b2c-825c-63659f3ee9ab"
      },
      "outputs": [],
      "source": [
        "def train_model(model, train_loader, val_loader, epochs=20, patience=3):\n",
        "    criterion = nn.CrossEntropyLoss()\n",
        "    optimizer = torch.optim.Adam(model.parameters(), lr=0.001)\n",
        "\n",
        "    best_val_acc = 0.0\n",
        "    patience_counter = 0\n",
        "\n",
        "    for epoch in range(epochs):\n",
        "        model.train()\n",
        "        running_loss = 0.0\n",
        "\n",
        "        for images, labels in train_loader:\n",
        "            images, labels = images.to(device), labels.to(device)\n",
        "\n",
        "            optimizer.zero_grad()\n",
        "            outputs = model(images)\n",
        "            loss = criterion(outputs, labels)\n",
        "            loss.backward()\n",
        "            optimizer.step()\n",
        "\n",
        "            running_loss += loss.item()\n",
        "\n",
        "        avg_loss = running_loss / len(train_loader)\n",
        "        val_acc = evaluate_model(model, val_loader)\n",
        "\n",
        "        print(f\"Epoch [{epoch+1}/{epochs}] - Loss: {avg_loss:.4f} - Val Accuracy: {val_acc:.2f}%\")\n",
        "\n",
        "        # Early stopping check\n",
        "        if val_acc > best_val_acc:\n",
        "            best_val_acc = val_acc\n",
        "            patience_counter = 0\n",
        "            torch.save(model.state_dict(), \"best_model.pth\")  # Save best model\n",
        "        else:\n",
        "            patience_counter += 1\n",
        "            if patience_counter >= patience:\n",
        "                print(f\"Early stopping triggered at epoch {epoch+1}\")\n",
        "                break"
      ]
    },
    {
      "cell_type": "markdown",
      "id": "3ac00dd1-c099-4a62-842f-9ea7011eaf01",
      "metadata": {
        "id": "3ac00dd1-c099-4a62-842f-9ea7011eaf01"
      },
      "source": [
        "## Training with ResNet 18"
      ]
    },
    {
      "cell_type": "code",
      "execution_count": null,
      "id": "93ea1597-9b7b-4644-826c-ff007d628824",
      "metadata": {
        "colab": {
          "base_uri": "https://localhost:8080/"
        },
        "id": "93ea1597-9b7b-4644-826c-ff007d628824",
        "outputId": "5f736acc-2fb6-4094-8caa-1a69db6e93a8"
      },
      "outputs": [
        {
          "name": "stderr",
          "output_type": "stream",
          "text": [
            "/usr/local/lib/python3.11/dist-packages/torchvision/models/_utils.py:208: UserWarning: The parameter 'pretrained' is deprecated since 0.13 and may be removed in the future, please use 'weights' instead.\n",
            "  warnings.warn(\n",
            "/usr/local/lib/python3.11/dist-packages/torchvision/models/_utils.py:223: UserWarning: Arguments other than a weight enum or `None` for 'weights' are deprecated since 0.13 and may be removed in the future. The current behavior is equivalent to passing `weights=ResNet18_Weights.IMAGENET1K_V1`. You can also use `weights=ResNet18_Weights.DEFAULT` to get the most up-to-date weights.\n",
            "  warnings.warn(msg)\n",
            "Downloading: \"https://download.pytorch.org/models/resnet18-f37072fd.pth\" to /root/.cache/torch/hub/checkpoints/resnet18-f37072fd.pth\n",
            "100%|██████████| 44.7M/44.7M [00:00<00:00, 188MB/s]\n"
          ]
        }
      ],
      "source": [
        "# model = get_model(\"resnet101\")       # ResNet101\n",
        "# model = get_model(\"resnet50\")  # ResNet50\n",
        "model = get_model(\"resnet18\")    # ResNet18"
      ]
    },
    {
      "cell_type": "markdown",
      "id": "hz5QtCKSs_X9",
      "metadata": {
        "id": "hz5QtCKSs_X9"
      },
      "source": [
        "## Defining Method for evaluating performance"
      ]
    },
    {
      "cell_type": "code",
      "execution_count": null,
      "id": "bea5b5fc-fa83-4a1d-abc4-b0540d8cfcdc",
      "metadata": {
        "id": "bea5b5fc-fa83-4a1d-abc4-b0540d8cfcdc"
      },
      "outputs": [],
      "source": [
        "\n",
        "def evaluate_model(model, loader):\n",
        "    model.eval()\n",
        "    correct, total = 0, 0\n",
        "\n",
        "    with torch.no_grad():\n",
        "        for images, labels in loader:\n",
        "            images, labels = images.to(device), labels.to(device)\n",
        "            outputs = model(images)\n",
        "            _, predicted = torch.max(outputs, 1)\n",
        "            correct += (predicted == labels).sum().item()\n",
        "            total += labels.size(0)\n",
        "\n",
        "    return 100 * correct / total\n",
        "\n",
        "# Detailed metrics\n",
        "def evaluate_model_metrics(model, loader, class_names):\n",
        "    model.eval()\n",
        "    y_true, y_pred = [], []\n",
        "\n",
        "    with torch.no_grad():\n",
        "        for images, labels in loader:\n",
        "            images = images.to(device)\n",
        "            outputs = model(images)\n",
        "            _, preds = torch.max(outputs, 1)\n",
        "\n",
        "            y_true.extend(labels.cpu().numpy())\n",
        "            y_pred.extend(preds.cpu().numpy())\n",
        "\n",
        "    cm = confusion_matrix(y_true, y_pred)\n",
        "    plt.figure(figsize=(6, 5))\n",
        "    sns.heatmap(cm, annot=True, fmt='d', cmap='Blues',\n",
        "                xticklabels=class_names,\n",
        "                yticklabels=class_names)\n",
        "    plt.xlabel(\"Predicted\")\n",
        "    plt.ylabel(\"Actual\")\n",
        "    plt.title(\"Confusion Matrix\")\n",
        "    plt.show()\n",
        "\n",
        "    print(\"📋 Classification Report:\")\n",
        "    print(classification_report(y_true, y_pred, target_names=class_names, digits=4))\n"
      ]
    },
    {
      "cell_type": "markdown",
      "id": "Nxbq1bCjtE2u",
      "metadata": {
        "id": "Nxbq1bCjtE2u"
      },
      "source": [
        "## First Training"
      ]
    },
    {
      "cell_type": "code",
      "execution_count": null,
      "id": "f99d835a-228a-465e-824a-cb6190b147bd",
      "metadata": {
        "colab": {
          "base_uri": "https://localhost:8080/"
        },
        "id": "f99d835a-228a-465e-824a-cb6190b147bd",
        "outputId": "8b54e8c0-05bd-47a8-a0c4-aa0bb1000221"
      },
      "outputs": [
        {
          "name": "stdout",
          "output_type": "stream",
          "text": [
            "Epoch [1/20] - Loss: 0.1401 - Val Accuracy: 93.21%\n",
            "Epoch [2/20] - Loss: 0.0572 - Val Accuracy: 95.95%\n",
            "Epoch [3/20] - Loss: 0.0384 - Val Accuracy: 94.75%\n",
            "Epoch [4/20] - Loss: 0.0387 - Val Accuracy: 96.29%\n",
            "Epoch [5/20] - Loss: 0.0331 - Val Accuracy: 97.32%\n",
            "Epoch [6/20] - Loss: 0.0234 - Val Accuracy: 89.04%\n",
            "Epoch [7/20] - Loss: 0.0230 - Val Accuracy: 96.69%\n",
            "Epoch [8/20] - Loss: 0.0143 - Val Accuracy: 92.07%\n",
            "Early stopping triggered at epoch 8\n"
          ]
        }
      ],
      "source": [
        "train_model(model, train_loader, val_loader, epochs=20, patience=3)"
      ]
    },
    {
      "cell_type": "markdown",
      "id": "0cd40dba-7041-49da-bd85-312df5de4bc5",
      "metadata": {
        "id": "0cd40dba-7041-49da-bd85-312df5de4bc5"
      },
      "source": [
        "## Evaluation Metrics for Testing"
      ]
    },
    {
      "cell_type": "code",
      "execution_count": null,
      "id": "925c9961-15b0-4044-b619-c3dfa3fd39c4",
      "metadata": {
        "colab": {
          "base_uri": "https://localhost:8080/"
        },
        "id": "925c9961-15b0-4044-b619-c3dfa3fd39c4",
        "outputId": "42b2ceae-959f-4a48-d5dc-b904e60c5b14"
      },
      "outputs": [
        {
          "name": "stdout",
          "output_type": "stream",
          "text": [
            " Final Test Accuracy: 97.18%\n"
          ]
        }
      ],
      "source": [
        "test_acc = evaluate_model(model, test_loader)\n",
        "print(f\" Final Test Accuracy: {test_acc:.2f}%\")"
      ]
    },
    {
      "cell_type": "markdown",
      "id": "8ff38759-d350-456e-a1e5-9a11b61882e4",
      "metadata": {
        "id": "8ff38759-d350-456e-a1e5-9a11b61882e4"
      },
      "source": [
        "# plotting to see overfitting or underfitting by plotting confusion matrix and evaluation metics"
      ]
    },
    {
      "cell_type": "code",
      "execution_count": null,
      "id": "9a9ec2aa-e1af-485c-9e76-ad859d287878",
      "metadata": {
        "id": "9a9ec2aa-e1af-485c-9e76-ad859d287878"
      },
      "outputs": [],
      "source": [
        "from sklearn.metrics import confusion_matrix, classification_report\n",
        "import seaborn as sns\n",
        "import matplotlib.pyplot as plt\n",
        "import numpy as np"
      ]
    },
    {
      "cell_type": "code",
      "execution_count": null,
      "id": "ca234fc8-fc9f-42a2-b617-0e374847c795",
      "metadata": {
        "colab": {
          "base_uri": "https://localhost:8080/",
          "height": 678
        },
        "id": "ca234fc8-fc9f-42a2-b617-0e374847c795",
        "outputId": "4e79e7b8-4f14-47e7-8b08-c46c82db3b29"
      },
      "outputs": [
        {
          "data": {
            "image/png": "[encoded data removed]",
            "text/plain": [
              "<Figure size 600x500 with 2 Axes>"
            ]
          },
          "metadata": {},
          "output_type": "display_data"
        },
        {
          "name": "stdout",
          "output_type": "stream",
          "text": [
            "📋 Classification Report:\n",
            "                precision    recall  f1-score   support\n",
            "\n",
            "     authentic     0.9449    0.9984    0.9709       618\n",
            "   counterfeit     0.9935    0.8021    0.8876       192\n",
            "not_medication     0.9907    0.9933    0.9920       750\n",
            "\n",
            "      accuracy                         0.9718      1560\n",
            "     macro avg     0.9764    0.9313    0.9502      1560\n",
            "  weighted avg     0.9729    0.9718    0.9708      1560\n",
            "\n"
          ]
        }
      ],
      "source": [
        "evaluate_model_metrics(model, test_loader,class_names)"
      ]
    },
    {
      "cell_type": "markdown",
      "id": "JhOHyhQbqPte",
      "metadata": {
        "id": "JhOHyhQbqPte"
      },
      "source": [
        "# Train model on second Iteration using a dataset of original authentic drug images and counterfeit drug images created from albumentation & OCR and Test on counterfeit drug images generated from Gen AI Only"
      ]
    },
    {
      "cell_type": "markdown",
      "id": "Rcp6-Pq6qhXO",
      "metadata": {
        "id": "Rcp6-Pq6qhXO"
      },
      "source": [
        "## Loading Second Dataset"
      ]
    },
    {
      "cell_type": "code",
      "execution_count": null,
      "id": "HGGddXleqPQp",
      "metadata": {
        "colab": {
          "base_uri": "https://localhost:8080/"
        },
        "id": "HGGddXleqPQp",
        "outputId": "be6d06f0-d457-42c4-967d-fbe114d9d5df"
      },
      "outputs": [
        {
          "name": "stdout",
          "output_type": "stream",
          "text": [
            "Class distribution in training set:\n",
            "Counter({2: 3500, 0: 2886, 1: 1016})\n"
          ]
        }
      ],
      "source": [
        "# Paths\n",
        "train_path = \"/content/drive/MyDrive/Colab_Notebooks/Counterfeit_med_dataset_trainOnAlbu_testOnGenAI/train\"\n",
        "val_path = \"/content/drive/MyDrive/Colab_Notebooks/Counterfeit_med_dataset_trainOnAlbu_testOnGenAI/valid\"\n",
        "test_path = \"/content/drive/MyDrive/Colab_Notebooks/Counterfeit_med_dataset_trainOnAlbu_testOnGenAI/test\"\n",
        "\n",
        "\n",
        "# Datasets\n",
        "train_dataset = datasets.ImageFolder(root=train_path, transform=train_transform)\n",
        "val_dataset = datasets.ImageFolder(root=val_path, transform=val_test_transform)\n",
        "test_dataset = datasets.ImageFolder(root=test_path, transform=val_test_transform)\n",
        "\n",
        "# Class distribution insight\n",
        "print(\"Class distribution in training set:\")\n",
        "print(Counter([label for _, label in train_dataset]))\n",
        "\n",
        "class_names = train_dataset.classes  # ['authentic', 'counterfeit', 'not_medication']\n",
        "\n",
        "\n",
        "\n",
        "train_loader = DataLoader(train_dataset, batch_size=128,num_workers=4, pin_memory=True, shuffle=True)\n",
        "val_loader = DataLoader(val_dataset, batch_size=128, num_workers=4, pin_memory=True, shuffle=False)\n",
        "test_loader = DataLoader(test_dataset, batch_size=128,num_workers=4, pin_memory=True, shuffle=False)\n"
      ]
    },
    {
      "cell_type": "markdown",
      "id": "S7eD_wMFqtTR",
      "metadata": {
        "id": "S7eD_wMFqtTR"
      },
      "source": [
        "## Training With Resnet 18 Again\n",
        "\n",
        "---\n",
        "\n"
      ]
    },
    {
      "cell_type": "code",
      "execution_count": null,
      "id": "qw4w_jNkrIK7",
      "metadata": {
        "colab": {
          "base_uri": "https://localhost:8080/",
          "height": 141
        },
        "id": "qw4w_jNkrIK7",
        "outputId": "f9d6e41b-c62c-4fcf-b526-28958762356b"
      },
      "outputs": [
        {
          "output_type": "error",
          "ename": "NameError",
          "evalue": "name 'train_model' is not defined",
          "traceback": [
            "\u001b[0;31m---------------------------------------------------------------------------\u001b[0m",
            "\u001b[0;31mNameError\u001b[0m                                 Traceback (most recent call last)",
            "\u001b[0;32m/tmp/ipython-input-2055667500.py\u001b[0m in \u001b[0;36m<cell line: 0>\u001b[0;34m()\u001b[0m\n\u001b[0;32m----> 1\u001b[0;31m \u001b[0mtrain_model\u001b[0m\u001b[0;34m(\u001b[0m\u001b[0mmodel\u001b[0m\u001b[0;34m,\u001b[0m \u001b[0mtrain_loader\u001b[0m\u001b[0;34m,\u001b[0m \u001b[0mval_loader\u001b[0m\u001b[0;34m,\u001b[0m \u001b[0mepochs\u001b[0m\u001b[0;34m=\u001b[0m\u001b[0;36m20\u001b[0m\u001b[0;34m,\u001b[0m \u001b[0mpatience\u001b[0m\u001b[0;34m=\u001b[0m\u001b[0;36m3\u001b[0m\u001b[0;34m)\u001b[0m\u001b[0;34m\u001b[0m\u001b[0;34m\u001b[0m\u001b[0m\n\u001b[0m",
            "\u001b[0;31mNameError\u001b[0m: name 'train_model' is not defined"
          ]
        }
      ],
      "source": [
        "train_model(model, train_loader, val_loader, epochs=20, patience=3)"
      ]
    },
    {
      "cell_type": "markdown",
      "id": "0zINk7HSuWz2",
      "metadata": {
        "id": "0zINk7HSuWz2"
      },
      "source": [
        "## Testing Overall Accuracy"
      ]
    },
    {
      "cell_type": "code",
      "execution_count": null,
      "id": "ibCYrxEYrEN3",
      "metadata": {
        "colab": {
          "base_uri": "https://localhost:8080/"
        },
        "id": "ibCYrxEYrEN3",
        "outputId": "644ba458-b9d6-4392-a49a-92d83b6b9cde"
      },
      "outputs": [
        {
          "name": "stdout",
          "output_type": "stream",
          "text": [
            " Final Test Accuracy: 90.06%\n"
          ]
        }
      ],
      "source": [
        "test_acc = evaluate_model(model, test_loader)\n",
        "print(f\" Final Test Accuracy: {test_acc:.2f}%\")"
      ]
    },
    {
      "cell_type": "markdown",
      "id": "_Nyrt3TBulAV",
      "metadata": {
        "id": "_Nyrt3TBulAV"
      },
      "source": [
        "## Plotting Overall Metrics"
      ]
    },
    {
      "cell_type": "code",
      "execution_count": null,
      "id": "ZiOWYYwWuU6K",
      "metadata": {
        "colab": {
          "base_uri": "https://localhost:8080/",
          "height": 678
        },
        "id": "ZiOWYYwWuU6K",
        "outputId": "667a5044-2205-4c3a-9e75-8ffc68d770d8"
      },
      "outputs": [
        {
          "data": {
            "image/png": "[encoded data removed]",
            "text/plain": [
              "<Figure size 600x500 with 2 Axes>"
            ]
          },
          "metadata": {},
          "output_type": "display_data"
        },
        {
          "name": "stdout",
          "output_type": "stream",
          "text": [
            "📋 Classification Report:\n",
            "                precision    recall  f1-score   support\n",
            "\n",
            "     authentic     0.8181    0.9822    0.8926       618\n",
            "   counterfeit     0.8485    0.2917    0.4341       192\n",
            "not_medication     0.9867    0.9893    0.9880       750\n",
            "\n",
            "      accuracy                         0.9006      1560\n",
            "     macro avg     0.8844    0.7544    0.7716      1560\n",
            "  weighted avg     0.9029    0.9006    0.8821      1560\n",
            "\n"
          ]
        }
      ],
      "source": [
        "evaluate_model_metrics(model, test_loader,class_names)"
      ]
    },
    {
      "cell_type": "markdown",
      "id": "Q5Dcg8dirGM4",
      "metadata": {
        "id": "Q5Dcg8dirGM4"
      },
      "source": [
        "# Train model on third Iteration using a super dataset combining sources 3 sources of authentic drug images Dataset A + Dataset B + Dataset C and generating counterfeit images from Dataset B and Dataset C"
      ]
    },
    {
      "cell_type": "markdown",
      "id": "59irQJKcrkZ4",
      "metadata": {
        "id": "59irQJKcrkZ4"
      },
      "source": [
        "## Loading third Dataset"
      ]
    },
    {
      "cell_type": "code",
      "execution_count": null,
      "id": "q9hk41_ArEVl",
      "metadata": {
        "colab": {
          "base_uri": "https://localhost:8080/"
        },
        "id": "q9hk41_ArEVl",
        "outputId": "548b6a25-83cc-454a-ef50-f9b5d4d0fa1f"
      },
      "outputs": [
        {
          "name": "stdout",
          "output_type": "stream",
          "text": [
            "Class distribution in training set:\n",
            "Counter({0: 5303, 2: 3500, 1: 1097})\n"
          ]
        }
      ],
      "source": [
        "# Paths\n",
        "train_path = \"/content/drive/MyDrive/Colab_Notebooks/counterfeit_drug_super_dataset/train\"\n",
        "val_path = \"/content/drive/MyDrive/Colab_Notebooks/counterfeit_drug_super_dataset/valid\"\n",
        "test_path = \"/content/drive/MyDrive/Colab_Notebooks/counterfeit_drug_super_dataset/test\"\n",
        "\n",
        "\n",
        "# Datasets\n",
        "train_dataset = datasets.ImageFolder(root=train_path, transform=train_transform)\n",
        "val_dataset = datasets.ImageFolder(root=val_path, transform=val_test_transform)\n",
        "test_dataset = datasets.ImageFolder(root=test_path, transform=val_test_transform)\n",
        "\n",
        "# Class distribution insight\n",
        "print(\"Class distribution in training set:\")\n",
        "print(Counter([label for _, label in train_dataset]))\n",
        "\n",
        "class_names = train_dataset.classes  # ['authentic', 'counterfeit', 'not_medication']\n",
        "\n",
        "\n",
        "\n",
        "train_loader = DataLoader(train_dataset, batch_size=128,num_workers=4, pin_memory=True, shuffle=True)\n",
        "val_loader = DataLoader(val_dataset, batch_size=128, num_workers=4, pin_memory=True, shuffle=False)\n",
        "test_loader = DataLoader(test_dataset, batch_size=128,num_workers=4, pin_memory=True, shuffle=False)\n"
      ]
    },
    {
      "cell_type": "markdown",
      "id": "eeNIpStAr6Ok",
      "metadata": {
        "id": "eeNIpStAr6Ok"
      },
      "source": [
        "## Training with Resnet 18"
      ]
    },
    {
      "cell_type": "code",
      "execution_count": null,
      "id": "gw66JebQZed8",
      "metadata": {
        "colab": {
          "base_uri": "https://localhost:8080/"
        },
        "id": "gw66JebQZed8",
        "outputId": "0494d819-0a00-48a9-f2f6-98f6aee6a307"
      },
      "outputs": [
        {
          "name": "stderr",
          "output_type": "stream",
          "text": [
            "/usr/local/lib/python3.11/dist-packages/torchvision/models/_utils.py:208: UserWarning: The parameter 'pretrained' is deprecated since 0.13 and may be removed in the future, please use 'weights' instead.\n",
            "  warnings.warn(\n",
            "/usr/local/lib/python3.11/dist-packages/torchvision/models/_utils.py:223: UserWarning: Arguments other than a weight enum or `None` for 'weights' are deprecated since 0.13 and may be removed in the future. The current behavior is equivalent to passing `weights=ResNet18_Weights.IMAGENET1K_V1`. You can also use `weights=ResNet18_Weights.DEFAULT` to get the most up-to-date weights.\n",
            "  warnings.warn(msg)\n"
          ]
        }
      ],
      "source": [
        "# model = get_model(\"resnet101\")       # ResNet101\n",
        "# model = get_model(\"resnet50\")  # ResNet50\n",
        "model = get_model(\"resnet18\")    # ResNet18"
      ]
    },
    {
      "cell_type": "code",
      "execution_count": null,
      "id": "bZJksq_Wr2tT",
      "metadata": {
        "colab": {
          "base_uri": "https://localhost:8080/"
        },
        "id": "bZJksq_Wr2tT",
        "outputId": "6698acc3-1d94-4351-b9be-b0b6aff68fff"
      },
      "outputs": [
        {
          "name": "stdout",
          "output_type": "stream",
          "text": [
            "Epoch [1/20] - Loss: 0.2933 - Val Accuracy: 79.99%\n",
            "Epoch [2/20] - Loss: 0.2053 - Val Accuracy: 81.54%\n",
            "Epoch [3/20] - Loss: 0.1901 - Val Accuracy: 61.60%\n",
            "Epoch [4/20] - Loss: 0.1836 - Val Accuracy: 86.28%\n",
            "Epoch [5/20] - Loss: 0.1561 - Val Accuracy: 82.46%\n",
            "Epoch [6/20] - Loss: 0.1575 - Val Accuracy: 79.00%\n",
            "Epoch [7/20] - Loss: 0.1537 - Val Accuracy: 88.90%\n",
            "Epoch [8/20] - Loss: 0.1332 - Val Accuracy: 87.20%\n",
            "Epoch [9/20] - Loss: 0.1249 - Val Accuracy: 85.43%\n",
            "Epoch [10/20] - Loss: 0.1306 - Val Accuracy: 76.52%\n",
            "Early stopping triggered at epoch 10\n"
          ]
        }
      ],
      "source": [
        "train_model(model, train_loader, val_loader, epochs=20, patience=3)"
      ]
    },
    {
      "cell_type": "markdown",
      "id": "188_qCqisFOL",
      "metadata": {
        "id": "188_qCqisFOL"
      },
      "source": [
        "## Testing Overall Accuracy"
      ]
    },
    {
      "cell_type": "code",
      "execution_count": null,
      "id": "pr3dbGVvsOvA",
      "metadata": {
        "colab": {
          "base_uri": "https://localhost:8080/"
        },
        "id": "pr3dbGVvsOvA",
        "outputId": "f7e9dac1-bec4-44c9-9f53-273c96f3b030"
      },
      "outputs": [
        {
          "name": "stdout",
          "output_type": "stream",
          "text": [
            " Final Test Accuracy: 79.57%\n"
          ]
        }
      ],
      "source": [
        "test_acc = evaluate_model(model, test_loader)\n",
        "print(f\" Final Test Accuracy: {test_acc:.2f}%\")"
      ]
    },
    {
      "cell_type": "markdown",
      "id": "mFwiD5ECsVLV",
      "metadata": {
        "id": "mFwiD5ECsVLV"
      },
      "source": [
        "## Plotting Metrics for thrid iteration"
      ]
    },
    {
      "cell_type": "markdown",
      "id": "PVp8RfOtmDQ7",
      "metadata": {
        "id": "PVp8RfOtmDQ7"
      },
      "source": []
    },
    {
      "cell_type": "code",
      "execution_count": null,
      "id": "qNBD-7_qsZCl",
      "metadata": {
        "colab": {
          "base_uri": "https://localhost:8080/",
          "height": 678
        },
        "id": "qNBD-7_qsZCl",
        "outputId": "9ded1a71-a946-4291-c037-c686ac451727"
      },
      "outputs": [
        {
          "data": {
            "image/png": "[encoded data removed]",
            "text/plain": [
              "<Figure size 600x500 with 2 Axes>"
            ]
          },
          "metadata": {},
          "output_type": "display_data"
        },
        {
          "name": "stdout",
          "output_type": "stream",
          "text": [
            "📋 Classification Report:\n",
            "                precision    recall  f1-score   support\n",
            "\n",
            "     authentic     0.9293    0.2674    0.4153       344\n",
            "   counterfeit     0.4819    0.9484    0.6390       252\n",
            "not_medication     0.9854    0.9867    0.9860       750\n",
            "\n",
            "      accuracy                         0.7957      1346\n",
            "     macro avg     0.7988    0.7342    0.6801      1346\n",
            "  weighted avg     0.8768    0.7957    0.7752      1346\n",
            "\n"
          ]
        }
      ],
      "source": [
        "evaluate_model_metrics(model, test_loader,class_names)"
      ]
    },
    {
      "cell_type": "markdown",
      "id": "be659140-26ba-42d9-a87b-704e4643cd47",
      "metadata": {
        "id": "be659140-26ba-42d9-a87b-704e4643cd47"
      },
      "source": [
        "# Manually Testing on Unforseen Data not in Testing Set"
      ]
    },
    {
      "cell_type": "code",
      "execution_count": null,
      "id": "0e4d4691-6579-4db1-842a-2e516008a21e",
      "metadata": {
        "id": "0e4d4691-6579-4db1-842a-2e516008a21e"
      },
      "outputs": [],
      "source": [
        "\n",
        "def predict_image(image_path, transform, model, class_names):\n",
        "    # Load and preprocess the image\n",
        "    image = Image.open(image_path).convert(\"RGB\")\n",
        "    image_tensor = transform(image).unsqueeze(0).to(device)  # Add batch dimension\n",
        "\n",
        "    model.eval()\n",
        "    with torch.no_grad():\n",
        "        outputs = model(image_tensor)\n",
        "        probs = F.softmax(outputs, dim=1)  # Get class probabilities\n",
        "        confidence, pred_class = torch.max(probs, 1)  # Top prediction\n",
        "\n",
        "    return {\n",
        "        \"prediction\": class_names[pred_class.item()],\n",
        "        \"confidence\": float(confidence.item()),\n",
        "        \"probabilities\": probs.cpu().numpy().flatten().tolist()\n",
        "    }"
      ]
    },
    {
      "cell_type": "markdown",
      "id": "YL1Wdjz0s7BY",
      "metadata": {
        "id": "YL1Wdjz0s7BY"
      },
      "source": [
        "# Training on Authentic A vs. Synthetic Counterfeits from B — Testing on Synthetic Counterfeits from A vs. Authentic B"
      ]
    },
    {
      "cell_type": "markdown",
      "id": "Yr3aZKQlw_xD",
      "metadata": {
        "id": "Yr3aZKQlw_xD"
      },
      "source": [
        "**Loading Dataset**"
      ]
    },
    {
      "cell_type": "code",
      "execution_count": null,
      "id": "D-AwhXA0w8hQ",
      "metadata": {
        "colab": {
          "base_uri": "https://localhost:8080/"
        },
        "id": "D-AwhXA0w8hQ",
        "outputId": "a50fad31-7c11-4d8b-a744-3e034fc13d89"
      },
      "outputs": [
        {
          "output_type": "stream",
          "name": "stdout",
          "text": [
            "Class distribution in training set:\n",
            "Counter({0: 4122, 2: 3500, 1: 1392})\n"
          ]
        }
      ],
      "source": [
        "# Paths\n",
        "train_path = \"/content/drive/MyDrive/Colab_Notebooks/Counterfeit_Detection_Dataset_v.5/train\"\n",
        "val_path = \"/content/drive/MyDrive/Colab_Notebooks/Counterfeit_Detection_Dataset_v.5/valid\"\n",
        "test_path = \"/content/drive/MyDrive/Colab_Notebooks/Counterfeit_Detection_Dataset_v.5/test\"\n",
        "\n",
        "\n",
        "# Datasets\n",
        "train_dataset = datasets.ImageFolder(root=train_path, transform=train_transform)\n",
        "val_dataset = datasets.ImageFolder(root=val_path, transform=val_test_transform)\n",
        "test_dataset = datasets.ImageFolder(root=test_path, transform=val_test_transform)\n",
        "\n",
        "# Class distribution insight\n",
        "print(\"Class distribution in training set:\")\n",
        "print(Counter([label for _, label in train_dataset]))\n",
        "\n",
        "class_names = train_dataset.classes  # ['authentic', 'counterfeit', 'not_medication']\n",
        "\n",
        "\n",
        "\n",
        "train_loader = DataLoader(train_dataset, batch_size=128,num_workers=4, pin_memory=True, shuffle=True)\n",
        "val_loader = DataLoader(val_dataset, batch_size=128, num_workers=4, pin_memory=True, shuffle=False)\n",
        "test_loader = DataLoader(test_dataset, batch_size=128,num_workers=4, pin_memory=True, shuffle=False)\n"
      ]
    },
    {
      "cell_type": "markdown",
      "id": "06c9367e-9cf2-465b-9b7e-81e0d78c59ad",
      "metadata": {
        "id": "06c9367e-9cf2-465b-9b7e-81e0d78c59ad"
      },
      "source": [
        "# Testing to see if it can distinguish between a medication and non-med"
      ]
    },
    {
      "cell_type": "code",
      "execution_count": null,
      "id": "b9ec2c58-5ad7-4aa7-8e33-f7556e3c237d",
      "metadata": {
        "colab": {
          "base_uri": "https://localhost:8080/"
        },
        "id": "b9ec2c58-5ad7-4aa7-8e33-f7556e3c237d",
        "outputId": "d7ea8f7c-a6a0-4e50-d442-7e5e84ae72a3",
        "scrolled": true
      },
      "outputs": [
        {
          "name": "stdout",
          "output_type": "stream",
          "text": [
            "Prediction Result: {'prediction': 'not_medication', 'confidence': 0.9999202489852905, 'probabilities': [2.809791658364702e-05, 5.158302519703284e-05, 0.9999202489852905]}\n"
          ]
        }
      ],
      "source": [
        "result = predict_image(\n",
        "    \"/content/drive/MyDrive/Colab_Notebooks/counterfeit_drug_super_dataset/person.jpg\",\n",
        "    val_test_transform,\n",
        "    model,\n",
        "    class_names\n",
        ")\n",
        "\n",
        "print(\"Prediction Result:\", result)"
      ]
    },
    {
      "cell_type": "markdown",
      "id": "847a975b-0ac0-4f1d-87de-d6160fb0c098",
      "metadata": {
        "id": "847a975b-0ac0-4f1d-87de-d6160fb0c098"
      },
      "source": [
        "# Testing to see if it can distinguish a drug package as authentic"
      ]
    },
    {
      "cell_type": "code",
      "execution_count": null,
      "id": "99b51718-88d4-45dd-8735-2a6bc64dfb49",
      "metadata": {
        "colab": {
          "base_uri": "https://localhost:8080/"
        },
        "id": "99b51718-88d4-45dd-8735-2a6bc64dfb49",
        "outputId": "7aa65261-ed2a-472d-d252-5e0baf4dfe1b"
      },
      "outputs": [
        {
          "name": "stdout",
          "output_type": "stream",
          "text": [
            "Prediction Result: {'prediction': 'authentic', 'confidence': 0.9524765014648438, 'probabilities': [0.9524765014648438, 0.0439252108335495, 0.003598286770284176]}\n"
          ]
        }
      ],
      "source": [
        "result = predict_image(\n",
        "    \"/content/drive/MyDrive/Colab_Notebooks/counterfeit_drug_super_dataset/parcetamol_cover.png\",\n",
        "    val_test_transform,\n",
        "    model,\n",
        "    class_names\n",
        ")\n",
        "\n",
        "print(\"Prediction Result:\", result)"
      ]
    },
    {
      "cell_type": "markdown",
      "id": "ad89ca77-5b38-4c5c-b26b-332668c16b51",
      "metadata": {
        "id": "ad89ca77-5b38-4c5c-b26b-332668c16b51"
      },
      "source": [
        "# Testing to see if it can distinguish a pill drug as authentic"
      ]
    },
    {
      "cell_type": "code",
      "execution_count": null,
      "id": "42688c6b-04f7-476a-b6a8-5f23290447bc",
      "metadata": {
        "colab": {
          "base_uri": "https://localhost:8080/"
        },
        "id": "42688c6b-04f7-476a-b6a8-5f23290447bc",
        "outputId": "7e676b58-99d0-459a-cab6-02552408f868"
      },
      "outputs": [
        {
          "name": "stdout",
          "output_type": "stream",
          "text": [
            "Prediction Result: {'prediction': 'not_medication', 'confidence': 1.0, 'probabilities': [4.653340823779217e-09, 2.4352878047473325e-10, 1.0]}\n"
          ]
        }
      ],
      "source": [
        "result = predict_image(\n",
        "    \"/content/drive/MyDrive/Colab_Notebooks/counterfeit_drug_super_dataset/parcetamol_tab.webp\",\n",
        "    val_test_transform,\n",
        "    model,\n",
        "    class_names\n",
        ")\n",
        "\n",
        "print(\"Prediction Result:\", result)"
      ]
    },
    {
      "cell_type": "markdown",
      "id": "e3YRJZKVQfqB",
      "metadata": {
        "id": "e3YRJZKVQfqB"
      },
      "source": [
        "# Testing to see if it can detect a counterfeit drug"
      ]
    },
    {
      "cell_type": "code",
      "execution_count": null,
      "id": "IOGKWLXEQkbO",
      "metadata": {
        "colab": {
          "base_uri": "https://localhost:8080/"
        },
        "id": "IOGKWLXEQkbO",
        "outputId": "645c0cd2-4bb9-45a5-f2ec-eea90eb6798f"
      },
      "outputs": [
        {
          "name": "stdout",
          "output_type": "stream",
          "text": [
            "Prediction Result: {'prediction': 'counterfeit', 'confidence': 0.9999713897705078, 'probabilities': [2.854610102076549e-05, 0.9999713897705078, 4.0201722839583454e-08]}\n"
          ]
        }
      ],
      "source": [
        "result = predict_image(\n",
        "    \"/content/drive/MyDrive/Colab_Notebooks/counterfeit_drug_super_dataset/folic-acid_jpg_mock.jpg\",\n",
        "    val_test_transform,\n",
        "    model,\n",
        "    class_names\n",
        ")\n",
        "\n",
        "print(\"Prediction Result:\", result)"
      ]
    },
    {
      "cell_type": "markdown",
      "id": "wonjyiYOQ0om",
      "metadata": {
        "id": "wonjyiYOQ0om"
      },
      "source": [
        "# Testing to see if it will predict the authentic image as authentic"
      ]
    },
    {
      "cell_type": "code",
      "execution_count": null,
      "id": "cL8JZzatQy6N",
      "metadata": {
        "colab": {
          "base_uri": "https://localhost:8080/"
        },
        "id": "cL8JZzatQy6N",
        "outputId": "444ae9f4-d40d-4a45-c56f-ca028364581f"
      },
      "outputs": [
        {
          "name": "stdout",
          "output_type": "stream",
          "text": [
            "Prediction Result: {'prediction': 'authentic', 'confidence': 0.8904287219047546, 'probabilities': [0.8904287219047546, 0.10951853543519974, 5.280220284475945e-05]}\n"
          ]
        }
      ],
      "source": [
        "result = predict_image(\n",
        "    \"/content/drive/MyDrive/Colab_Notebooks/counterfeit_drug_super_dataset/folicacid_auth.jpg\",\n",
        "    val_test_transform,\n",
        "    model,\n",
        "    class_names\n",
        ")\n",
        "\n",
        "print(\"Prediction Result:\", result)"
      ]
    },
    {
      "cell_type": "markdown",
      "id": "bEwxPVtUSgfY",
      "metadata": {
        "id": "bEwxPVtUSgfY"
      },
      "source": [
        "# I will retrain using resnet50 in the next iteration to see if it may perform better we will go with the super dataset as it is great at convincing the model that these are authentics"
      ]
    },
    {
      "cell_type": "code",
      "execution_count": null,
      "id": "38mbSFDlTAwf",
      "metadata": {
        "colab": {
          "base_uri": "https://localhost:8080/"
        },
        "id": "38mbSFDlTAwf",
        "outputId": "5fe0d39d-2129-4830-e961-29e6ddd598a0"
      },
      "outputs": [
        {
          "name": "stderr",
          "output_type": "stream",
          "text": [
            "/usr/local/lib/python3.11/dist-packages/torchvision/models/_utils.py:208: UserWarning: The parameter 'pretrained' is deprecated since 0.13 and may be removed in the future, please use 'weights' instead.\n",
            "  warnings.warn(\n",
            "/usr/local/lib/python3.11/dist-packages/torchvision/models/_utils.py:223: UserWarning: Arguments other than a weight enum or `None` for 'weights' are deprecated since 0.13 and may be removed in the future. The current behavior is equivalent to passing `weights=ResNet50_Weights.IMAGENET1K_V1`. You can also use `weights=ResNet50_Weights.DEFAULT` to get the most up-to-date weights.\n",
            "  warnings.warn(msg)\n",
            "Downloading: \"https://download.pytorch.org/models/resnet50-0676ba61.pth\" to /root/.cache/torch/hub/checkpoints/resnet50-0676ba61.pth\n",
            "100%|██████████| 97.8M/97.8M [00:00<00:00, 193MB/s]\n"
          ]
        }
      ],
      "source": [
        "model = get_model(\"resnet50\")  # ResNet50"
      ]
    },
    {
      "cell_type": "code",
      "execution_count": null,
      "id": "XVPDLkssTGbt",
      "metadata": {
        "colab": {
          "base_uri": "https://localhost:8080/"
        },
        "id": "XVPDLkssTGbt",
        "outputId": "cdaf49fa-6c7c-4669-988a-18cdaeb18af0"
      },
      "outputs": [
        {
          "name": "stdout",
          "output_type": "stream",
          "text": [
            "Epoch [1/20] - Loss: 0.1293 - Val Accuracy: 96.35%\n",
            "Epoch [2/20] - Loss: 0.0667 - Val Accuracy: 97.77%\n",
            "Epoch [3/20] - Loss: 0.0530 - Val Accuracy: 96.97%\n",
            "Epoch [4/20] - Loss: 0.0561 - Val Accuracy: 98.40%\n",
            "Epoch [5/20] - Loss: 0.0361 - Val Accuracy: 98.17%\n",
            "Epoch [6/20] - Loss: 0.0375 - Val Accuracy: 97.60%\n",
            "Epoch [7/20] - Loss: 0.0360 - Val Accuracy: 98.00%\n",
            "Early stopping triggered at epoch 7\n"
          ]
        }
      ],
      "source": [
        "train_model(model, train_loader, val_loader, epochs=20, patience=3)"
      ]
    },
    {
      "cell_type": "code",
      "execution_count": null,
      "id": "TvuTU7meUsQg",
      "metadata": {
        "colab": {
          "base_uri": "https://localhost:8080/"
        },
        "id": "TvuTU7meUsQg",
        "outputId": "6ed9838c-0bb4-4c91-bf3a-fe0fb46a8d5b"
      },
      "outputs": [
        {
          "name": "stdout",
          "output_type": "stream",
          "text": [
            " Final Test Accuracy: 86.99%\n"
          ]
        }
      ],
      "source": [
        "test_acc = evaluate_model(model, test_loader)\n",
        "print(f\" Final Test Accuracy: {test_acc:.2f}%\")"
      ]
    },
    {
      "cell_type": "code",
      "execution_count": null,
      "id": "yu6JYCaVU4Wz",
      "metadata": {
        "colab": {
          "base_uri": "https://localhost:8080/",
          "height": 678
        },
        "id": "yu6JYCaVU4Wz",
        "outputId": "d28544f3-655a-49e9-ca31-cb58198f220a"
      },
      "outputs": [
        {
          "data": {
            "image/png": "[encoded data removed]",
            "text/plain": [
              "<Figure size 600x500 with 2 Axes>"
            ]
          },
          "metadata": {},
          "output_type": "display_data"
        },
        {
          "name": "stdout",
          "output_type": "stream",
          "text": [
            "📋 Classification Report:\n",
            "                precision    recall  f1-score   support\n",
            "\n",
            "     authentic     0.7712    0.9984    0.8702       618\n",
            "   counterfeit     0.8333    0.0260    0.0505       192\n",
            "not_medication     0.9748    0.9800    0.9774       750\n",
            "\n",
            "      accuracy                         0.8699      1560\n",
            "     macro avg     0.8598    0.6681    0.6327      1560\n",
            "  weighted avg     0.8768    0.8699    0.8209      1560\n",
            "\n"
          ]
        }
      ],
      "source": [
        "evaluate_model_metrics(model, test_loader,class_names)"
      ]
    },
    {
      "cell_type": "markdown",
      "id": "-FQJ0TnqWTGA",
      "metadata": {
        "id": "-FQJ0TnqWTGA"
      },
      "source": [
        "# Training with Resnet101"
      ]
    },
    {
      "cell_type": "code",
      "execution_count": null,
      "id": "130f0b53-350d-44df-8255-5e8c3c938b17",
      "metadata": {
        "id": "130f0b53-350d-44df-8255-5e8c3c938b17",
        "colab": {
          "base_uri": "https://localhost:8080/"
        },
        "outputId": "9a783440-39df-4c43-8e1a-1e36114faf5a"
      },
      "outputs": [
        {
          "output_type": "stream",
          "name": "stderr",
          "text": [
            "/usr/local/lib/python3.12/dist-packages/torchvision/models/_utils.py:208: UserWarning: The parameter 'pretrained' is deprecated since 0.13 and may be removed in the future, please use 'weights' instead.\n",
            "  warnings.warn(\n",
            "/usr/local/lib/python3.12/dist-packages/torchvision/models/_utils.py:223: UserWarning: Arguments other than a weight enum or `None` for 'weights' are deprecated since 0.13 and may be removed in the future. The current behavior is equivalent to passing `weights=ResNet101_Weights.IMAGENET1K_V1`. You can also use `weights=ResNet101_Weights.DEFAULT` to get the most up-to-date weights.\n",
            "  warnings.warn(msg)\n"
          ]
        },
        {
          "output_type": "stream",
          "name": "stdout",
          "text": [
            "Downloading: \"https://download.pytorch.org/models/resnet101-63fe2227.pth\" to /root/.cache/torch/hub/checkpoints/resnet101-63fe2227.pth\n"
          ]
        },
        {
          "output_type": "stream",
          "name": "stderr",
          "text": [
            "100%|██████████| 171M/171M [00:00<00:00, 224MB/s]\n"
          ]
        }
      ],
      "source": [
        "model = get_model(\"resnet101\")  # ResNet101"
      ]
    },
    {
      "cell_type": "code",
      "execution_count": null,
      "id": "9VGp5EhhWV6j",
      "metadata": {
        "colab": {
          "base_uri": "https://localhost:8080/"
        },
        "id": "9VGp5EhhWV6j",
        "outputId": "3d0da173-1a7d-44af-bb42-c017c730dbe3"
      },
      "outputs": [
        {
          "output_type": "stream",
          "name": "stdout",
          "text": [
            "Epoch [1/20] - Loss: 0.2245 - Val Accuracy: 47.51%\n",
            "Epoch [2/20] - Loss: 0.1148 - Val Accuracy: 48.06%\n",
            "Epoch [3/20] - Loss: 0.0742 - Val Accuracy: 52.86%\n",
            "Epoch [4/20] - Loss: 0.0611 - Val Accuracy: 46.53%\n",
            "Epoch [5/20] - Loss: 0.0587 - Val Accuracy: 52.12%\n",
            "Epoch [6/20] - Loss: 0.0674 - Val Accuracy: 54.39%\n",
            "Epoch [7/20] - Loss: 0.0402 - Val Accuracy: 50.83%\n",
            "Epoch [8/20] - Loss: 0.0400 - Val Accuracy: 48.68%\n",
            "Epoch [9/20] - Loss: 0.0409 - Val Accuracy: 55.75%\n",
            "Epoch [10/20] - Loss: 0.0445 - Val Accuracy: 47.39%\n",
            "Epoch [11/20] - Loss: 0.0329 - Val Accuracy: 49.23%\n",
            "Epoch [12/20] - Loss: 0.0280 - Val Accuracy: 53.78%\n",
            "Early stopping triggered at epoch 12\n"
          ]
        }
      ],
      "source": [
        "train_model(model, train_loader, val_loader, epochs=20, patience=3)"
      ]
    },
    {
      "cell_type": "code",
      "execution_count": null,
      "id": "c210aa49-8c6b-4c81-a50e-d3ccd8886475",
      "metadata": {
        "colab": {
          "base_uri": "https://localhost:8080/"
        },
        "id": "c210aa49-8c6b-4c81-a50e-d3ccd8886475",
        "outputId": "b8316e16-704d-4807-c4bc-7ddf0a38e0f7"
      },
      "outputs": [
        {
          "output_type": "stream",
          "name": "stdout",
          "text": [
            " Final Test Accuracy: 53.92%\n"
          ]
        }
      ],
      "source": [
        "test_acc = evaluate_model(model, test_loader)\n",
        "print(f\" Final Test Accuracy: {test_acc:.2f}%\")"
      ]
    },
    {
      "cell_type": "code",
      "execution_count": null,
      "id": "29b11be2-67ac-4ae9-9f40-39cfed82a0e1",
      "metadata": {
        "colab": {
          "base_uri": "https://localhost:8080/"
        },
        "id": "29b11be2-67ac-4ae9-9f40-39cfed82a0e1",
        "outputId": "372f4cd3-cedc-4e88-9b6f-a94ef691eb0c"
      },
      "outputs": [
        {
          "output_type": "display_data",
          "data": {
            "text/plain": [
              "<Figure size 600x500 with 2 Axes>"
            ],
            "image/png": "[encoded data removed]"
          },
          "metadata": {}
        },
        {
          "output_type": "stream",
          "name": "stdout",
          "text": [
            "📋 Classification Report:\n",
            "                precision    recall  f1-score   support\n",
            "\n",
            "     authentic     0.0192    0.0330    0.0243       273\n",
            "   counterfeit     0.3403    0.2458    0.2854       598\n",
            "not_medication     0.9958    0.9573    0.9762       750\n",
            "\n",
            "      accuracy                         0.5392      1621\n",
            "     macro avg     0.4518    0.4120    0.4286      1621\n",
            "  weighted avg     0.5895    0.5392    0.5611      1621\n",
            "\n"
          ]
        }
      ],
      "source": [
        "evaluate_model_metrics(model, test_loader,class_names)"
      ]
    },
    {
      "cell_type": "markdown",
      "id": "BvSp17R9dWfI",
      "metadata": {
        "id": "BvSp17R9dWfI"
      },
      "source": []
    },
    {
      "cell_type": "markdown",
      "id": "YUK4S4hzdYB8",
      "metadata": {
        "id": "YUK4S4hzdYB8"
      },
      "source": [
        "# Will go with first Iteration, and dataset. Training again on the first dataset using resnet50"
      ]
    },
    {
      "cell_type": "code",
      "execution_count": null,
      "id": "kJbMAQfhZB3a",
      "metadata": {
        "colab": {
          "base_uri": "https://localhost:8080/"
        },
        "id": "kJbMAQfhZB3a",
        "outputId": "04ccd72d-9c36-4a31-fd77-4ab3b9e907e3"
      },
      "outputs": [
        {
          "name": "stdout",
          "output_type": "stream",
          "text": [
            "Class distribution in training set:\n",
            "Counter({2: 3500, 0: 2886, 1: 762})\n"
          ]
        }
      ],
      "source": [
        "# Paths\n",
        "train_path = \"/content/drive/MyDrive/Colab_Notebooks/Counterfeit_med_dataset_trainOnGenAI_testOnGenAI&Albu/train\"\n",
        "val_path = \"/content/drive/MyDrive/Colab_Notebooks/Counterfeit_med_dataset_trainOnGenAI_testOnGenAI&Albu/valid\"\n",
        "test_path = \"/content/drive/MyDrive/Colab_Notebooks/Counterfeit_med_dataset_trainOnGenAI_testOnGenAI&Albu/test\"\n",
        "\n",
        "\n",
        "# Datasets\n",
        "train_dataset = datasets.ImageFolder(root=train_path, transform=train_transform)\n",
        "val_dataset = datasets.ImageFolder(root=val_path, transform=val_test_transform)\n",
        "test_dataset = datasets.ImageFolder(root=test_path, transform=val_test_transform)\n",
        "\n",
        "# Class distribution insight\n",
        "print(\"Class distribution in training set:\")\n",
        "print(Counter([label for _, label in train_dataset]))\n",
        "\n",
        "class_names = train_dataset.classes  # ['authentic', 'counterfeit', 'not_medication']\n",
        "\n",
        "\n",
        "\n",
        "train_loader = DataLoader(train_dataset, batch_size=128,num_workers=4, pin_memory=True, shuffle=True)\n",
        "val_loader = DataLoader(val_dataset, batch_size=128, num_workers=4, pin_memory=True, shuffle=False)\n",
        "test_loader = DataLoader(test_dataset, batch_size=128,num_workers=4, pin_memory=True, shuffle=False)\n"
      ]
    },
    {
      "cell_type": "code",
      "execution_count": null,
      "id": "eaRMoqWxdnRg",
      "metadata": {
        "colab": {
          "base_uri": "https://localhost:8080/"
        },
        "id": "eaRMoqWxdnRg",
        "outputId": "147da8e7-dd9f-4558-b9bd-49dadcc1319b"
      },
      "outputs": [
        {
          "name": "stderr",
          "output_type": "stream",
          "text": [
            "/usr/local/lib/python3.12/dist-packages/torchvision/models/_utils.py:208: UserWarning: The parameter 'pretrained' is deprecated since 0.13 and may be removed in the future, please use 'weights' instead.\n",
            "  warnings.warn(\n",
            "/usr/local/lib/python3.12/dist-packages/torchvision/models/_utils.py:223: UserWarning: Arguments other than a weight enum or `None` for 'weights' are deprecated since 0.13 and may be removed in the future. The current behavior is equivalent to passing `weights=ResNet50_Weights.IMAGENET1K_V1`. You can also use `weights=ResNet50_Weights.DEFAULT` to get the most up-to-date weights.\n",
            "  warnings.warn(msg)\n"
          ]
        },
        {
          "name": "stdout",
          "output_type": "stream",
          "text": [
            "Downloading: \"https://download.pytorch.org/models/resnet50-0676ba61.pth\" to /root/.cache/torch/hub/checkpoints/resnet50-0676ba61.pth\n"
          ]
        },
        {
          "name": "stderr",
          "output_type": "stream",
          "text": [
            "100%|██████████| 97.8M/97.8M [00:02<00:00, 45.9MB/s]\n"
          ]
        }
      ],
      "source": [
        "model = get_model(\"resnet50\")  # ResNet50"
      ]
    },
    {
      "cell_type": "code",
      "execution_count": null,
      "id": "bYBw6_LadsUZ",
      "metadata": {
        "colab": {
          "base_uri": "https://localhost:8080/"
        },
        "id": "bYBw6_LadsUZ",
        "outputId": "2a086c1d-c9a0-472d-9445-c170d00a80ab"
      },
      "outputs": [
        {
          "name": "stdout",
          "output_type": "stream",
          "text": [
            "Epoch [1/20] - Loss: 0.2342 - Val Accuracy: 89.84%\n",
            "Epoch [2/20] - Loss: 0.0802 - Val Accuracy: 86.76%\n",
            "Epoch [3/20] - Loss: 0.0677 - Val Accuracy: 90.13%\n",
            "Epoch [4/20] - Loss: 0.0518 - Val Accuracy: 95.72%\n",
            "Epoch [5/20] - Loss: 0.0395 - Val Accuracy: 91.61%\n",
            "Epoch [6/20] - Loss: 0.0416 - Val Accuracy: 90.81%\n",
            "Epoch [7/20] - Loss: 0.0351 - Val Accuracy: 94.35%\n",
            "Early stopping triggered at epoch 7\n"
          ]
        }
      ],
      "source": [
        "train_model(model, train_loader, val_loader, epochs=20, patience=3)"
      ]
    },
    {
      "cell_type": "code",
      "execution_count": null,
      "id": "Iv_GixuMdvAW",
      "metadata": {
        "colab": {
          "base_uri": "https://localhost:8080/"
        },
        "id": "Iv_GixuMdvAW",
        "outputId": "b07225e2-7baf-4553-d832-bc4efa2d5b6c"
      },
      "outputs": [
        {
          "name": "stdout",
          "output_type": "stream",
          "text": [
            " Final Test Accuracy: 96.22%\n"
          ]
        }
      ],
      "source": [
        "test_acc = evaluate_model(model, test_loader)\n",
        "print(f\" Final Test Accuracy: {test_acc:.2f}%\")"
      ]
    },
    {
      "cell_type": "code",
      "execution_count": null,
      "id": "RScXZ1a9dydX",
      "metadata": {
        "colab": {
          "base_uri": "https://localhost:8080/",
          "height": 678
        },
        "id": "RScXZ1a9dydX",
        "outputId": "c0923e49-1c39-46d0-a409-d3e6d4629046"
      },
      "outputs": [
        {
          "data": {
            "image/png": "[encoded data removed]",
            "text/plain": [
              "<Figure size 600x500 with 2 Axes>"
            ]
          },
          "metadata": {},
          "output_type": "display_data"
        },
        {
          "name": "stdout",
          "output_type": "stream",
          "text": [
            "📋 Classification Report:\n",
            "                precision    recall  f1-score   support\n",
            "\n",
            "     authentic     0.9319    0.9968    0.9633       618\n",
            "   counterfeit     0.9448    0.8021    0.8676       192\n",
            "not_medication     0.9932    0.9747    0.9838       750\n",
            "\n",
            "      accuracy                         0.9622      1560\n",
            "     macro avg     0.9566    0.9245    0.9382      1560\n",
            "  weighted avg     0.9630    0.9622    0.9614      1560\n",
            "\n"
          ]
        }
      ],
      "source": [
        "evaluate_model_metrics(model, test_loader,class_names)"
      ]
    },
    {
      "cell_type": "markdown",
      "id": "gnSRbKB8gVV5",
      "metadata": {
        "id": "gnSRbKB8gVV5"
      },
      "source": [
        "## Testing with ResNet101"
      ]
    },
    {
      "cell_type": "code",
      "execution_count": null,
      "id": "AzogIIlJgKbL",
      "metadata": {
        "colab": {
          "base_uri": "https://localhost:8080/"
        },
        "id": "AzogIIlJgKbL",
        "outputId": "cf9f7bd0-9031-43fa-8828-ca91af656d4d"
      },
      "outputs": [
        {
          "name": "stderr",
          "output_type": "stream",
          "text": [
            "/usr/local/lib/python3.12/dist-packages/torchvision/models/_utils.py:208: UserWarning: The parameter 'pretrained' is deprecated since 0.13 and may be removed in the future, please use 'weights' instead.\n",
            "  warnings.warn(\n",
            "/usr/local/lib/python3.12/dist-packages/torchvision/models/_utils.py:223: UserWarning: Arguments other than a weight enum or `None` for 'weights' are deprecated since 0.13 and may be removed in the future. The current behavior is equivalent to passing `weights=ResNet101_Weights.IMAGENET1K_V1`. You can also use `weights=ResNet101_Weights.DEFAULT` to get the most up-to-date weights.\n",
            "  warnings.warn(msg)\n"
          ]
        },
        {
          "name": "stdout",
          "output_type": "stream",
          "text": [
            "Downloading: \"https://download.pytorch.org/models/resnet101-63fe2227.pth\" to /root/.cache/torch/hub/checkpoints/resnet101-63fe2227.pth\n"
          ]
        },
        {
          "name": "stderr",
          "output_type": "stream",
          "text": [
            "100%|██████████| 171M/171M [00:00<00:00, 234MB/s]\n"
          ]
        }
      ],
      "source": [
        "model = get_model(\"resnet101\")  # ResNet101"
      ]
    },
    {
      "cell_type": "code",
      "execution_count": null,
      "id": "9vfCZWPtfx3f",
      "metadata": {
        "colab": {
          "base_uri": "https://localhost:8080/"
        },
        "id": "9vfCZWPtfx3f",
        "outputId": "1095b6d1-073c-4b52-d2e2-2d4fdea2c08f"
      },
      "outputs": [
        {
          "name": "stdout",
          "output_type": "stream",
          "text": [
            "Epoch [1/20] - Loss: 0.1739 - Val Accuracy: 85.05%\n",
            "Epoch [2/20] - Loss: 0.0831 - Val Accuracy: 85.90%\n",
            "Epoch [3/20] - Loss: 0.0713 - Val Accuracy: 83.28%\n",
            "Epoch [4/20] - Loss: 0.0521 - Val Accuracy: 92.81%\n",
            "Epoch [5/20] - Loss: 0.0417 - Val Accuracy: 96.80%\n",
            "Epoch [6/20] - Loss: 0.0338 - Val Accuracy: 93.61%\n",
            "Epoch [7/20] - Loss: 0.0433 - Val Accuracy: 95.26%\n",
            "Epoch [8/20] - Loss: 0.0479 - Val Accuracy: 94.41%\n",
            "Early stopping triggered at epoch 8\n"
          ]
        }
      ],
      "source": [
        "train_model(model, train_loader, val_loader, epochs=20, patience=3)"
      ]
    },
    {
      "cell_type": "code",
      "execution_count": null,
      "id": "EjgTcdQagUet",
      "metadata": {
        "colab": {
          "base_uri": "https://localhost:8080/"
        },
        "id": "EjgTcdQagUet",
        "outputId": "69e1f7d6-a191-4b5c-a792-29df393825ff"
      },
      "outputs": [
        {
          "name": "stdout",
          "output_type": "stream",
          "text": [
            " Final Test Accuracy: 98.40%\n"
          ]
        }
      ],
      "source": [
        "test_acc = evaluate_model(model, test_loader)\n",
        "print(f\" Final Test Accuracy: {test_acc:.2f}%\")"
      ]
    },
    {
      "cell_type": "code",
      "execution_count": null,
      "id": "bVo1UIsdglDO",
      "metadata": {
        "colab": {
          "base_uri": "https://localhost:8080/",
          "height": 678
        },
        "id": "bVo1UIsdglDO",
        "outputId": "25f8d7e0-4e63-4404-f255-31031d5c6359"
      },
      "outputs": [
        {
          "data": {
            "image/png": "[encoded data removed]",
            "text/plain": [
              "<Figure size 600x500 with 2 Axes>"
            ]
          },
          "metadata": {},
          "output_type": "display_data"
        },
        {
          "name": "stdout",
          "output_type": "stream",
          "text": [
            "📋 Classification Report:\n",
            "                precision    recall  f1-score   support\n",
            "\n",
            "     authentic     0.9768    0.8867    0.9296       618\n",
            "   counterfeit     0.7231    0.9115    0.8065       192\n",
            "not_medication     0.9670    0.9760    0.9715       750\n",
            "\n",
            "      accuracy                         0.9327      1560\n",
            "     macro avg     0.8890    0.9247    0.9025      1560\n",
            "  weighted avg     0.9409    0.9327    0.9346      1560\n",
            "\n"
          ]
        }
      ],
      "source": [
        "evaluate_model_metrics(model, test_loader,class_names)"
      ]
    },
    {
      "cell_type": "markdown",
      "id": "lQ6_OJJQqKhN",
      "metadata": {
        "id": "lQ6_OJJQqKhN"
      },
      "source": [
        "# Saving Model and going with ResNet 101"
      ]
    },
    {
      "cell_type": "code",
      "execution_count": null,
      "id": "_ra2IRgtqJqV",
      "metadata": {
        "colab": {
          "base_uri": "https://localhost:8080/",
          "height": 141
        },
        "id": "_ra2IRgtqJqV",
        "outputId": "ce7bbfd0-a334-4f5f-cca5-c73d1572c0d3"
      },
      "outputs": [
        {
          "ename": "NameError",
          "evalue": "name 'torch' is not defined",
          "output_type": "error",
          "traceback": [
            "\u001b[0;31m---------------------------------------------------------------------------\u001b[0m",
            "\u001b[0;31mNameError\u001b[0m                                 Traceback (most recent call last)",
            "\u001b[0;32m/tmp/ipython-input-2341174286.py\u001b[0m in \u001b[0;36m<cell line: 0>\u001b[0;34m()\u001b[0m\n\u001b[0;32m----> 1\u001b[0;31m \u001b[0mtorch\u001b[0m\u001b[0;34m.\u001b[0m\u001b[0msave\u001b[0m\u001b[0;34m(\u001b[0m\u001b[0mmodel\u001b[0m\u001b[0;34m.\u001b[0m\u001b[0mstate_dict\u001b[0m\u001b[0;34m(\u001b[0m\u001b[0;34m)\u001b[0m\u001b[0;34m,\u001b[0m \u001b[0;34m\"/content/drive/MyDrive/Colab_Notebooks/counterfeit_detector_v1.pt\"\u001b[0m\u001b[0;34m)\u001b[0m\u001b[0;34m\u001b[0m\u001b[0;34m\u001b[0m\u001b[0m\n\u001b[0m",
            "\u001b[0;31mNameError\u001b[0m: name 'torch' is not defined"
          ]
        }
      ],
      "source": [
        "torch.save(model.state_dict(), \"/content/drive/MyDrive/Colab_Notebooks/counterfeit_detector_v1.pt\")"
      ]
    },
    {
      "cell_type": "code",
      "execution_count": null,
      "id": "-wdP5RcOq9xo",
      "metadata": {
        "colab": {
          "base_uri": "https://localhost:8080/"
        },
        "id": "-wdP5RcOq9xo",
        "outputId": "80e08272-e487-478d-a8af-807af9be3267"
      },
      "outputs": [
        {
          "name": "stdout",
          "output_type": "stream",
          "text": [
            "Requirement already satisfied: fastapi in /usr/local/lib/python3.11/dist-packages (0.116.1)\n",
            "Requirement already satisfied: uvicorn in /usr/local/lib/python3.11/dist-packages (0.35.0)\n",
            "Requirement already satisfied: torch in /usr/local/lib/python3.11/dist-packages (2.6.0+cu124)\n",
            "Requirement already satisfied: torchvision in /usr/local/lib/python3.11/dist-packages (0.21.0+cu124)\n",
            "Requirement already satisfied: pillow in /usr/local/lib/python3.11/dist-packages (11.3.0)\n",
            "Requirement already satisfied: starlette<0.48.0,>=0.40.0 in /usr/local/lib/python3.11/dist-packages (from fastapi) (0.47.2)\n",
            "Requirement already satisfied: pydantic!=1.8,!=1.8.1,!=2.0.0,!=2.0.1,!=2.1.0,<3.0.0,>=1.7.4 in /usr/local/lib/python3.11/dist-packages (from fastapi) (2.11.7)\n",
            "Requirement already satisfied: typing-extensions>=4.8.0 in /usr/local/lib/python3.11/dist-packages (from fastapi) (4.14.1)\n",
            "Requirement already satisfied: click>=7.0 in /usr/local/lib/python3.11/dist-packages (from uvicorn) (8.2.1)\n",
            "Requirement already satisfied: h11>=0.8 in /usr/local/lib/python3.11/dist-packages (from uvicorn) (0.16.0)\n",
            "Requirement already satisfied: filelock in /usr/local/lib/python3.11/dist-packages (from torch) (3.18.0)\n",
            "Requirement already satisfied: networkx in /usr/local/lib/python3.11/dist-packages (from torch) (3.5)\n",
            "Requirement already satisfied: jinja2 in /usr/local/lib/python3.11/dist-packages (from torch) (3.1.6)\n",
            "Requirement already satisfied: fsspec in /usr/local/lib/python3.11/dist-packages (from torch) (2025.3.0)\n",
            "Collecting nvidia-cuda-nvrtc-cu12==12.4.127 (from torch)\n",
            "  Downloading nvidia_cuda_nvrtc_cu12-12.4.127-py3-none-manylinux2014_x86_64.whl.metadata (1.5 kB)\n",
            "Collecting nvidia-cuda-runtime-cu12==12.4.127 (from torch)\n",
            "  Downloading nvidia_cuda_runtime_cu12-12.4.127-py3-none-manylinux2014_x86_64.whl.metadata (1.5 kB)\n",
            "Collecting nvidia-cuda-cupti-cu12==12.4.127 (from torch)\n",
            "  Downloading nvidia_cuda_cupti_cu12-12.4.127-py3-none-manylinux2014_x86_64.whl.metadata (1.6 kB)\n",
            "Collecting nvidia-cudnn-cu12==9.1.0.70 (from torch)\n",
            "  Downloading nvidia_cudnn_cu12-9.1.0.70-py3-none-manylinux2014_x86_64.whl.metadata (1.6 kB)\n",
            "Collecting nvidia-cublas-cu12==12.4.5.8 (from torch)\n",
            "  Downloading nvidia_cublas_cu12-12.4.5.8-py3-none-manylinux2014_x86_64.whl.metadata (1.5 kB)\n",
            "Collecting nvidia-cufft-cu12==11.2.1.3 (from torch)\n",
            "  Downloading nvidia_cufft_cu12-11.2.1.3-py3-none-manylinux2014_x86_64.whl.metadata (1.5 kB)\n",
            "Collecting nvidia-curand-cu12==10.3.5.147 (from torch)\n",
            "  Downloading nvidia_curand_cu12-10.3.5.147-py3-none-manylinux2014_x86_64.whl.metadata (1.5 kB)\n",
            "Collecting nvidia-cusolver-cu12==11.6.1.9 (from torch)\n",
            "  Downloading nvidia_cusolver_cu12-11.6.1.9-py3-none-manylinux2014_x86_64.whl.metadata (1.6 kB)\n",
            "Collecting nvidia-cusparse-cu12==12.3.1.170 (from torch)\n",
            "  Downloading nvidia_cusparse_cu12-12.3.1.170-py3-none-manylinux2014_x86_64.whl.metadata (1.6 kB)\n",
            "Requirement already satisfied: nvidia-cusparselt-cu12==0.6.2 in /usr/local/lib/python3.11/dist-packages (from torch) (0.6.2)\n",
            "Collecting nvidia-nccl-cu12==2.21.5 (from torch)\n",
            "  Downloading nvidia_nccl_cu12-2.21.5-py3-none-manylinux2014_x86_64.whl.metadata (1.8 kB)\n",
            "Requirement already satisfied: nvidia-nvtx-cu12==12.4.127 in /usr/local/lib/python3.11/dist-packages (from torch) (12.4.127)\n",
            "Collecting nvidia-nvjitlink-cu12==12.4.127 (from torch)\n",
            "  Downloading nvidia_nvjitlink_cu12-12.4.127-py3-none-manylinux2014_x86_64.whl.metadata (1.5 kB)\n",
            "Requirement already satisfied: triton==3.2.0 in /usr/local/lib/python3.11/dist-packages (from torch) (3.2.0)\n",
            "Requirement already satisfied: sympy==1.13.1 in /usr/local/lib/python3.11/dist-packages (from torch) (1.13.1)\n",
            "Requirement already satisfied: mpmath<1.4,>=1.1.0 in /usr/local/lib/python3.11/dist-packages (from sympy==1.13.1->torch) (1.3.0)\n",
            "Requirement already satisfied: numpy in /usr/local/lib/python3.11/dist-packages (from torchvision) (2.0.2)\n",
            "Requirement already satisfied: annotated-types>=0.6.0 in /usr/local/lib/python3.11/dist-packages (from pydantic!=1.8,!=1.8.1,!=2.0.0,!=2.0.1,!=2.1.0,<3.0.0,>=1.7.4->fastapi) (0.7.0)\n",
            "Requirement already satisfied: pydantic-core==2.33.2 in /usr/local/lib/python3.11/dist-packages (from pydantic!=1.8,!=1.8.1,!=2.0.0,!=2.0.1,!=2.1.0,<3.0.0,>=1.7.4->fastapi) (2.33.2)\n",
            "Requirement already satisfied: typing-inspection>=0.4.0 in /usr/local/lib/python3.11/dist-packages (from pydantic!=1.8,!=1.8.1,!=2.0.0,!=2.0.1,!=2.1.0,<3.0.0,>=1.7.4->fastapi) (0.4.1)\n",
            "Requirement already satisfied: anyio<5,>=3.6.2 in /usr/local/lib/python3.11/dist-packages (from starlette<0.48.0,>=0.40.0->fastapi) (4.10.0)\n",
            "Requirement already satisfied: MarkupSafe>=2.0 in /usr/local/lib/python3.11/dist-packages (from jinja2->torch) (3.0.2)\n",
            "Requirement already satisfied: idna>=2.8 in /usr/local/lib/python3.11/dist-packages (from anyio<5,>=3.6.2->starlette<0.48.0,>=0.40.0->fastapi) (3.10)\n",
            "Requirement already satisfied: sniffio>=1.1 in /usr/local/lib/python3.11/dist-packages (from anyio<5,>=3.6.2->starlette<0.48.0,>=0.40.0->fastapi) (1.3.1)\n",
            "Downloading nvidia_cublas_cu12-12.4.5.8-py3-none-manylinux2014_x86_64.whl (363.4 MB)\n",
            "\u001b[2K   \u001b[90m━━━━━━━━━━━━━━━━━━━━━━━━━━━━━━━━━━━━━━━━\u001b[0m \u001b[32m363.4/363.4 MB\u001b[0m \u001b[31m3.2 MB/s\u001b[0m eta \u001b[36m0:00:00\u001b[0m\n",
            "\u001b[?25hDownloading nvidia_cuda_cupti_cu12-12.4.127-py3-none-manylinux2014_x86_64.whl (13.8 MB)\n",
            "\u001b[2K   \u001b[90m━━━━━━━━━━━━━━━━━━━━━━━━━━━━━━━━━━━━━━━━\u001b[0m \u001b[32m13.8/13.8 MB\u001b[0m \u001b[31m113.0 MB/s\u001b[0m eta \u001b[36m0:00:00\u001b[0m\n",
            "\u001b[?25hDownloading nvidia_cuda_nvrtc_cu12-12.4.127-py3-none-manylinux2014_x86_64.whl (24.6 MB)\n",
            "\u001b[2K   \u001b[90m━━━━━━━━━━━━━━━━━━━━━━━━━━━━━━━━━━━━━━━━\u001b[0m \u001b[32m24.6/24.6 MB\u001b[0m \u001b[31m100.6 MB/s\u001b[0m eta \u001b[36m0:00:00\u001b[0m\n",
            "\u001b[?25hDownloading nvidia_cuda_runtime_cu12-12.4.127-py3-none-manylinux2014_x86_64.whl (883 kB)\n",
            "\u001b[2K   \u001b[90m━━━━━━━━━━━━━━━━━━━━━━━━━━━━━━━━━━━━━━━━\u001b[0m \u001b[32m883.7/883.7 kB\u001b[0m \u001b[31m58.9 MB/s\u001b[0m eta \u001b[36m0:00:00\u001b[0m\n",
            "\u001b[?25hDownloading nvidia_cudnn_cu12-9.1.0.70-py3-none-manylinux2014_x86_64.whl (664.8 MB)\n",
            "\u001b[2K   \u001b[90m━━━━━━━━━━━━━━━━━━━━━━━━━━━━━━━━━━━━━━━━\u001b[0m \u001b[32m664.8/664.8 MB\u001b[0m \u001b[31m2.8 MB/s\u001b[0m eta \u001b[36m0:00:00\u001b[0m\n",
            "\u001b[?25hDownloading nvidia_cufft_cu12-11.2.1.3-py3-none-manylinux2014_x86_64.whl (211.5 MB)\n",
            "\u001b[2K   \u001b[90m━━━━━━━━━━━━━━━━━━━━━━━━━━━━━━━━━━━━━━━━\u001b[0m \u001b[32m211.5/211.5 MB\u001b[0m \u001b[31m4.9 MB/s\u001b[0m eta \u001b[36m0:00:00\u001b[0m\n",
            "\u001b[?25hDownloading nvidia_curand_cu12-10.3.5.147-py3-none-manylinux2014_x86_64.whl (56.3 MB)\n",
            "\u001b[2K   \u001b[90m━━━━━━━━━━━━━━━━━━━━━━━━━━━━━━━━━━━━━━━━\u001b[0m \u001b[32m56.3/56.3 MB\u001b[0m \u001b[31m42.6 MB/s\u001b[0m eta \u001b[36m0:00:00\u001b[0m\n",
            "\u001b[?25hDownloading nvidia_cusolver_cu12-11.6.1.9-py3-none-manylinux2014_x86_64.whl (127.9 MB)\n",
            "\u001b[2K   \u001b[90m━━━━━━━━━━━━━━━━━━━━━━━━━━━━━━━━━━━━━━━━\u001b[0m \u001b[32m127.9/127.9 MB\u001b[0m \u001b[31m19.8 MB/s\u001b[0m eta \u001b[36m0:00:00\u001b[0m\n",
            "\u001b[?25hDownloading nvidia_cusparse_cu12-12.3.1.170-py3-none-manylinux2014_x86_64.whl (207.5 MB)\n",
            "\u001b[2K   \u001b[90m━━━━━━━━━━━━━━━━━━━━━━━━━━━━━━━━━━━━━━━━\u001b[0m \u001b[32m207.5/207.5 MB\u001b[0m \u001b[31m4.3 MB/s\u001b[0m eta \u001b[36m0:00:00\u001b[0m\n",
            "\u001b[?25hDownloading nvidia_nccl_cu12-2.21.5-py3-none-manylinux2014_x86_64.whl (188.7 MB)\n",
            "\u001b[2K   \u001b[90m━━━━━━━━━━━━━━━━━━━━━━━━━━━━━━━━━━━━━━━━\u001b[0m \u001b[32m188.7/188.7 MB\u001b[0m \u001b[31m6.4 MB/s\u001b[0m eta \u001b[36m0:00:00\u001b[0m\n",
            "\u001b[?25hDownloading nvidia_nvjitlink_cu12-12.4.127-py3-none-manylinux2014_x86_64.whl (21.1 MB)\n",
            "\u001b[2K   \u001b[90m━━━━━━━━━━━━━━━━━━━━━━━━━━━━━━━━━━━━━━━━\u001b[0m \u001b[32m21.1/21.1 MB\u001b[0m \u001b[31m103.0 MB/s\u001b[0m eta \u001b[36m0:00:00\u001b[0m\n",
            "\u001b[?25hInstalling collected packages: nvidia-nvjitlink-cu12, nvidia-nccl-cu12, nvidia-curand-cu12, nvidia-cufft-cu12, nvidia-cuda-runtime-cu12, nvidia-cuda-nvrtc-cu12, nvidia-cuda-cupti-cu12, nvidia-cublas-cu12, nvidia-cusparse-cu12, nvidia-cudnn-cu12, nvidia-cusolver-cu12\n",
            "  Attempting uninstall: nvidia-nvjitlink-cu12\n",
            "    Found existing installation: nvidia-nvjitlink-cu12 12.5.82\n",
            "    Uninstalling nvidia-nvjitlink-cu12-12.5.82:\n",
            "      Successfully uninstalled nvidia-nvjitlink-cu12-12.5.82\n",
            "  Attempting uninstall: nvidia-nccl-cu12\n",
            "    Found existing installation: nvidia-nccl-cu12 2.23.4\n",
            "    Uninstalling nvidia-nccl-cu12-2.23.4:\n",
            "      Successfully uninstalled nvidia-nccl-cu12-2.23.4\n",
            "  Attempting uninstall: nvidia-curand-cu12\n",
            "    Found existing installation: nvidia-curand-cu12 10.3.6.82\n",
            "    Uninstalling nvidia-curand-cu12-10.3.6.82:\n",
            "      Successfully uninstalled nvidia-curand-cu12-10.3.6.82\n",
            "  Attempting uninstall: nvidia-cufft-cu12\n",
            "    Found existing installation: nvidia-cufft-cu12 11.2.3.61\n",
            "    Uninstalling nvidia-cufft-cu12-11.2.3.61:\n",
            "      Successfully uninstalled nvidia-cufft-cu12-11.2.3.61\n",
            "  Attempting uninstall: nvidia-cuda-runtime-cu12\n",
            "    Found existing installation: nvidia-cuda-runtime-cu12 12.5.82\n",
            "    Uninstalling nvidia-cuda-runtime-cu12-12.5.82:\n",
            "      Successfully uninstalled nvidia-cuda-runtime-cu12-12.5.82\n",
            "  Attempting uninstall: nvidia-cuda-nvrtc-cu12\n",
            "    Found existing installation: nvidia-cuda-nvrtc-cu12 12.5.82\n",
            "    Uninstalling nvidia-cuda-nvrtc-cu12-12.5.82:\n",
            "      Successfully uninstalled nvidia-cuda-nvrtc-cu12-12.5.82\n",
            "  Attempting uninstall: nvidia-cuda-cupti-cu12\n",
            "    Found existing installation: nvidia-cuda-cupti-cu12 12.5.82\n",
            "    Uninstalling nvidia-cuda-cupti-cu12-12.5.82:\n",
            "      Successfully uninstalled nvidia-cuda-cupti-cu12-12.5.82\n",
            "  Attempting uninstall: nvidia-cublas-cu12\n",
            "    Found existing installation: nvidia-cublas-cu12 12.5.3.2\n",
            "    Uninstalling nvidia-cublas-cu12-12.5.3.2:\n",
            "      Successfully uninstalled nvidia-cublas-cu12-12.5.3.2\n",
            "  Attempting uninstall: nvidia-cusparse-cu12\n",
            "    Found existing installation: nvidia-cusparse-cu12 12.5.1.3\n",
            "    Uninstalling nvidia-cusparse-cu12-12.5.1.3:\n",
            "      Successfully uninstalled nvidia-cusparse-cu12-12.5.1.3\n",
            "  Attempting uninstall: nvidia-cudnn-cu12\n",
            "    Found existing installation: nvidia-cudnn-cu12 9.3.0.75\n",
            "    Uninstalling nvidia-cudnn-cu12-9.3.0.75:\n",
            "      Successfully uninstalled nvidia-cudnn-cu12-9.3.0.75\n",
            "  Attempting uninstall: nvidia-cusolver-cu12\n",
            "    Found existing installation: nvidia-cusolver-cu12 11.6.3.83\n",
            "    Uninstalling nvidia-cusolver-cu12-11.6.3.83:\n",
            "      Successfully uninstalled nvidia-cusolver-cu12-11.6.3.83\n",
            "Successfully installed nvidia-cublas-cu12-12.4.5.8 nvidia-cuda-cupti-cu12-12.4.127 nvidia-cuda-nvrtc-cu12-12.4.127 nvidia-cuda-runtime-cu12-12.4.127 nvidia-cudnn-cu12-9.1.0.70 nvidia-cufft-cu12-11.2.1.3 nvidia-curand-cu12-10.3.5.147 nvidia-cusolver-cu12-11.6.1.9 nvidia-cusparse-cu12-12.3.1.170 nvidia-nccl-cu12-2.21.5 nvidia-nvjitlink-cu12-12.4.127\n"
          ]
        }
      ],
      "source": [
        "pip install fastapi uvicorn torch torchvision pillow"
      ]
    },
    {
      "cell_type": "code",
      "execution_count": null,
      "id": "I2smlcruqjAx",
      "metadata": {
        "id": "I2smlcruqjAx"
      },
      "outputs": [],
      "source": [
        "## Creating API Endpoint for Deployment"
      ]
    },
    {
      "cell_type": "code",
      "execution_count": null,
      "id": "0FmmQNoirmO3",
      "metadata": {
        "id": "0FmmQNoirmO3"
      },
      "outputs": [],
      "source": [
        "from fastapi import FastAPI, File, UploadFile\n",
        "from PIL import Image\n",
        "import torch\n",
        "import torchvision.transforms as transforms\n",
        "import io\n",
        "\n",
        "# Define the FastAPI app instance\n",
        "app = FastAPI()"
      ]
    },
    {
      "cell_type": "code",
      "execution_count": null,
      "id": "T2ptG-gRrkAZ",
      "metadata": {
        "id": "T2ptG-gRrkAZ"
      },
      "outputs": [],
      "source": [
        "# Load your trained model once when the app starts\n",
        "model = torch.load(\"model_resnet101.pt\")\n",
        "model.eval()"
      ]
    },
    {
      "cell_type": "code",
      "execution_count": null,
      "id": "FNnI5u9wiKje",
      "metadata": {
        "id": "FNnI5u9wiKje"
      },
      "outputs": [],
      "source": [
        "@app.post(\"/predict\")\n",
        "async def predict(file: UploadFile = File(...)):\n",
        "    image_bytes = await file.read()\n",
        "    image = Image.open(io.BytesIO(image_bytes)).convert(\"RGB\")\n",
        "    input_tensor = transform(image).unsqueeze(0)\n",
        "\n",
        "    with torch.no_grad():\n",
        "        output = model(input_tensor)\n",
        "        probabilities = torch.nn.functional.softmax(output, dim=1)\n",
        "        confidence, predicted_class = torch.max(probabilities, dim=1)\n",
        "\n",
        "    class_map = {0: \"authentic\", 1: \"counterfeit\", 2: \"not_medication\"}\n",
        "    predicted_label = class_map[predicted_class.item()]\n",
        "    confidence_score = round(confidence.item(), 4)\n",
        "\n",
        "    return {\n",
        "        \"prediction\": predicted_label,\n",
        "        \"confidence\": confidence_score,\n",
        "        \"message\": f\"This image is most likely '{predicted_label}' with a confidence of {confidence_score:.2%}\"\n",
        "    }"
      ]
    },
    {
      "cell_type": "code",
      "execution_count": null,
      "id": "oC8qqJx9qqjC",
      "metadata": {
        "id": "oC8qqJx9qqjC"
      },
      "outputs": [],
      "source": [
        "pip freeze > requirements.txt"
      ]
    },
    {
      "cell_type": "code",
      "execution_count": null,
      "id": "dpiWL591yTwf",
      "metadata": {
        "id": "dpiWL591yTwf"
      },
      "outputs": [],
      "source": []
    }
  ],
  "metadata": {
    "accelerator": "GPU",
    "colab": {
      "gpuType": "L4",
      "provenance": []
    },
    "kernelspec": {
      "display_name": "Python [conda env:base] *",
      "language": "python",
      "name": "conda-base-py"
    },
    "language_info": {
      "codemirror_mode": {
        "name": "ipython",
        "version": 3
      },
      "file_extension": ".py",
      "mimetype": "text/x-python",
      "name": "python",
      "nbconvert_exporter": "python",
      "pygments_lexer": "ipython3",
      "version": "3.12.7"
    }
  },
  "nbformat": 4,
  "nbformat_minor": 5
}